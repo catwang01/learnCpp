{
 "cells": [
  {
   "cell_type": "markdown",
   "metadata": {},
   "source": [
    "---\n",
    "title: Linux高级系统编程 chapter6 高级IO函数 pipe 和 splice\n",
    "tags: 小书匠,c++,socket,io,pipe,splice,Books-Linux高级系统编程 \n",
    "grammar_cjkRuby: true\n",
    "renderNumberedHeading: true\n",
    "---\n",
    "\n",
    "[toc]\n",
    "\n",
    "# Linux高级系统编程 chapter6 高级IO函数 pipe 和 splice"
   ]
  },
  {
   "cell_type": "markdown",
   "metadata": {},
   "source": [
    "## pipe"
   ]
  },
  {
   "cell_type": "markdown",
   "metadata": {},
   "source": [
    "### 原型\n",
    "\n",
    "```cpp\n",
    "#include <unistd.h>\n",
    "int pipe(int fd[2]);\n",
    "```"
   ]
  },
  {
   "cell_type": "markdown",
   "metadata": {},
   "source": [
    "### 参数"
   ]
  },
  {
   "cell_type": "markdown",
   "metadata": {},
   "source": [
    "参数 fd 是一个长度为 2 的整数，分别代表输出管道和输入管道。从 `fd[1]` 输入，并从 `fd[0]` 中读出。"
   ]
  },
  {
   "cell_type": "markdown",
   "metadata": {},
   "source": [
    "### 返回值"
   ]
  },
  {
   "cell_type": "markdown",
   "metadata": {},
   "source": [
    "- 成功时，返回0，并将文件描述符写入 fd 中。\n",
    "- 失败时，返回-1，并设置 errno"
   ]
  },
  {
   "cell_type": "markdown",
   "metadata": {},
   "source": [
    "### splice"
   ]
  },
  {
   "cell_type": "markdown",
   "metadata": {},
   "source": [
    "## 示例"
   ]
  },
  {
   "cell_type": "markdown",
   "metadata": {},
   "source": [
    "### 使用 pipe 和 splice 来实现回声服务器"
   ]
  },
  {
   "cell_type": "markdown",
   "metadata": {},
   "source": [
    "- 在 macOS Mojave 10.14.6 系统下测试，无法运行，会报错。因为 macOS 上没有 splice 函数。"
   ]
  },
  {
   "cell_type": "code",
   "execution_count": 42,
   "metadata": {},
   "outputs": [
    {
     "name": "stdout",
     "output_type": "stream",
     "text": [
      "Overwriting server.cpp\n"
     ]
    }
   ],
   "source": [
    "%%file server.cpp\n",
    "#include <iostream>\n",
    "#include <cstring> // for memset\n",
    "#include <sys/socket.h>\n",
    "#include <arpa/inet.h> // inet_addr\n",
    "#include <netinet/in.h> // IPPROTO_TCP\n",
    "#include <unistd.h>\n",
    "#include <errno.h>\n",
    "#include <fcntl.h>\n",
    "#include <assert.h>\n",
    "\n",
    "#define BUFF_SIZE 100\n",
    "\n",
    "int main() {\n",
    "    int serv_sock = socket(AF_INET, SOCK_STREAM, IPPROTO_TCP);\n",
    "\n",
    "    // 定义 serv 地址\n",
    "    sockaddr_in serv_addr;\n",
    "    memset(&serv_addr, 0, sizeof(serv_addr));\n",
    "    serv_addr.sin_family = AF_INET; // 使用 IPv4\n",
    "    serv_addr.sin_addr.s_addr = inet_addr(\"127.0.0.1\"); //指定 ip\n",
    "    serv_addr.sin_port = htons(1234); // 指定端口\n",
    "\n",
    "    bind(serv_sock, (sockaddr*)&serv_addr, sizeof(serv_addr));\n",
    "\n",
    "    listen(serv_sock, 20);\n",
    "\n",
    "    // 定义 client 地址\n",
    "    sockaddr_in client_addr;\n",
    "    socklen_t client_addr_size = sizeof(client_addr);\n",
    "\n",
    "    int client_sock = accept(serv_sock, (sockaddr*)&client_addr, &client_addr_size);\n",
    "    printf(\"[Server] Client %s conect to the server!\\n\", inet_ntoa(client_addr.sin_addr));\n",
    "\n",
    "    int pipefd[2];\n",
    "    int ret = pipe(pipefd);\n",
    "    if (ret == -1) \n",
    "    {\n",
    "        perror(\"[Server] Create pipefd failed\");\n",
    "        close(serv_sock);\n",
    "        close(client_sock);\n",
    "        return 0;\n",
    "    }\n",
    "\n",
    "    int iret = 0;\n",
    "    while (1)\n",
    "    {\n",
    "        iret = splice(client_sock, NULL, pipefd[1], NULL, 32768, 0);\n",
    "        if (iret != -1)\n",
    "        {\n",
    "            printf(\"[Server] recieve %d bytes from client\\n\", iret);\n",
    "            iret = splice(pipefd[0], NULL, client_sock, NULL, 32768, 0);\n",
    "            if (iret != -1)\n",
    "            {\n",
    "                printf(\"[Server] send %d bytes to client\\n\", iret);\n",
    "            }\n",
    "            else \n",
    "            {\n",
    "                perror(\"[Server] Send error\");\n",
    "                break;\n",
    "            }\n",
    "        }\n",
    "        else\n",
    "        {\n",
    "            perror(\"[Server] Splice failed\");\n",
    "            break;\n",
    "        }\n",
    "    }\n",
    "    close(client_sock);\n",
    "    close(serv_sock);\n",
    "    return 0;\n",
    "}"
   ]
  },
  {
   "cell_type": "code",
   "execution_count": 44,
   "metadata": {},
   "outputs": [
    {
     "name": "stdout",
     "output_type": "stream",
     "text": [
      "Overwriting client.cpp\n"
     ]
    }
   ],
   "source": [
    "%%file client.cpp\n",
    "#include <cstdio>\n",
    "#include <unistd.h>\n",
    "#include <arpa/inet.h>\n",
    "#include <sys/socket.h>\n",
    "#include <cstring>\n",
    "#include <iostream>\n",
    "#include <errno.h>\n",
    "\n",
    "#define BUFF_SIZE 1024\n",
    "\n",
    "using namespace std;\n",
    "\n",
    "int main()\n",
    "{\n",
    "\n",
    "    int serv_sock = socket(AF_INET, SOCK_STREAM, IPPROTO_TCP);\n",
    "\n",
    "    sockaddr_in serv_addr;\n",
    "    memset(&serv_addr, 0, sizeof(serv_addr));\n",
    "    serv_addr.sin_family = AF_INET;\n",
    "    serv_addr.sin_addr.s_addr = inet_addr(\"127.0.0.1\");\n",
    "    serv_addr.sin_port = htons(1234);\n",
    "\n",
    "    int iret;\n",
    "    iret = connect(serv_sock, (sockaddr*)&serv_addr, sizeof(serv_addr)); // 连接\n",
    "    if ( iret == -1)  // 判断是否连接成功\n",
    "    {\n",
    "        perror(\"Connect to client failed!\");\n",
    "        close(serv_sock);\n",
    "        return 0;\n",
    "    }\n",
    "\n",
    "    // 获取用户输入\n",
    "    char send_buffer[BUFF_SIZE];\n",
    "    char recv_buffer[BUFF_SIZE];\n",
    "\n",
    "    // 发送给服务器\n",
    "    while (true)\n",
    "    {\n",
    "        printf(\"[Client] Input a string: \");\n",
    "        scanf(\"%s\", send_buffer);\n",
    "\n",
    "        iret = send(serv_sock, send_buffer, sizeof(send_buffer), 0);\n",
    "        if (iret != -1) {\n",
    "            printf(\"[Client] Message to server: %s\\n\", send_buffer);\n",
    "        } else {\n",
    "            perror(\"[Client] send failed\");\n",
    "        }\n",
    "\n",
    "        iret = recv(serv_sock, recv_buffer, sizeof(recv_buffer), 0);\n",
    "        if (iret > 0) {\n",
    "            printf(\"[Client] Message from server: %s\\n\", recv_buffer);\n",
    "        } else \n",
    "        {\n",
    "            if (iret == 0)\n",
    "                printf(\"[Client] server closed!\\n\");\n",
    "            else\n",
    "                perror(\"[Client] connection failed\");\n",
    "            break;\n",
    "        }\n",
    "        memset(send_buffer, 0, sizeof(send_buffer));\n",
    "        memset(recv_buffer, 0, sizeof(recv_buffer));\n",
    "    }\n",
    "    close(serv_sock);\n",
    "    return 0;\n",
    "}"
   ]
  },
  {
   "cell_type": "code",
   "execution_count": 45,
   "metadata": {},
   "outputs": [
    {
     "name": "stdout",
     "output_type": "stream",
     "text": [
      "server.cpp:47:16: error: use of undeclared identifier 'splice'\n",
      "        iret = splice(client_sock, NULL, pipefd[1], NULL, 32768, 0);\n",
      "               ^\n",
      "server.cpp:51:20: error: use of undeclared identifier 'splice'\n",
      "            iret = splice(pipefd[0], NULL, client_sock, NULL, 32768, 0);\n",
      "                   ^\n",
      "2 errors generated.\n"
     ]
    }
   ],
   "source": [
    "!g++ server.cpp -o server"
   ]
  },
  {
   "cell_type": "code",
   "execution_count": 46,
   "metadata": {},
   "outputs": [],
   "source": [
    "!g++ client.cpp -o client"
   ]
  }
 ],
 "metadata": {
  "kernelspec": {
   "display_name": "C++11 [conda env:cpp]",
   "language": "C++11",
   "name": "conda-env-cpp-xcpp11"
  },
  "language_info": {
   "codemirror_mode": "text/x-c++src",
   "file_extension": ".cpp",
   "mimetype": "text/x-c++src",
   "name": "c++",
   "version": "11"
  }
 },
 "nbformat": 4,
 "nbformat_minor": 4
}
