{
 "cells": [
  {
   "cell_type": "markdown",
   "metadata": {},
   "source": [
    "---\n",
    "title: C++ 网络编程 利用 socket 实现文件上传\n",
    "tags: C++,Network|计算机网络,socket,upload,小书匠\n",
    "grammar_cjkRuby: true\n",
    "renderNumberedHeading: true\n",
    "---\n",
    "\n",
    "[toc]\n",
    "\n",
    "# C++ 网络编程 利用 socket 实现文件上传"
   ]
  },
  {
   "cell_type": "markdown",
   "metadata": {},
   "source": [
    "这个代码实现了十分简单的文件上传功能。主要是练习简单的 socket 的使用。"
   ]
  },
  {
   "cell_type": "markdown",
   "metadata": {},
   "source": [
    "## 代码"
   ]
  },
  {
   "cell_type": "markdown",
   "metadata": {},
   "source": [
    "### server.cpp"
   ]
  },
  {
   "cell_type": "code",
   "execution_count": 5,
   "metadata": {},
   "outputs": [
    {
     "name": "stdout",
     "output_type": "stream",
     "text": [
      "Overwriting server.cpp\n"
     ]
    }
   ],
   "source": [
    "%%file server.cpp\n",
    "#include <iostream>\n",
    "#include <sys/socket.h>\n",
    "#include <cstring>\n",
    "#include <netinet/in.h>\n",
    "#include <arpa/inet.h>\n",
    "#include <fstream>\n",
    "#include <unistd.h>\n",
    "\n",
    "#define IP \"127.0.0.1\"\n",
    "#define PORT 5000\n",
    "#define BUFF_SIZE 1000\n",
    "\n",
    "using namespace std;\n",
    "\n",
    "int main()\n",
    "{\n",
    "    int server_sock = socket(AF_INET, SOCK_STREAM, IPPROTO_TCP); // 定义 socket\n",
    "\n",
    "    sockaddr_in server_addr; // 定义 ip\n",
    "    memset(&server_addr, 0, sizeof(server_addr));\n",
    "    server_addr.sin_family = AF_INET;\n",
    "    server_addr.sin_addr.s_addr = inet_addr(IP);\n",
    "    server_addr.sin_port = htons(PORT);\n",
    "\n",
    "    bind(server_sock, (sockaddr*)&server_addr, sizeof(server_addr)); // 绑定地址\n",
    "    \n",
    "    listen(server_sock, 20);\n",
    "    \n",
    "    sockaddr_in client_addr;\n",
    "    socklen_t client_addr_size = sizeof(client_addr);\n",
    "    \n",
    "    int client_sock = accept(server_sock, (sockaddr*)&client_addr, &client_addr_size);\n",
    "    \n",
    "    char buff[BUFF_SIZE];\n",
    "    recv(client_sock, buff, BUFF_SIZE, 0); // 得到\n",
    "    string filename = buff;\n",
    "    ofstream fout(filename, ios_base::binary);\n",
    "    if (!fout)\n",
    "    {\n",
    "        cout << \"Can't open file \" << filename << endl;\n",
    "        close(server_sock);\n",
    "        close(client_sock);\n",
    "        return 0;\n",
    "    }\n",
    "    \n",
    "    int n_recv_total = 0;\n",
    "    int n_recv = 0;\n",
    "    while (1)\n",
    "    {\n",
    "        n_recv = recv(client_sock, buff, BUFF_SIZE, 0);\n",
    "        if (n_recv == 0)\n",
    "        {\n",
    "            break;\n",
    "        }\n",
    "        fout.write(buff, n_recv);\n",
    "        n_recv_total += n_recv;\n",
    "        cout << \"[Server] \" << n_recv << \" bytes has been recieved from client\\n\";\n",
    "    }\n",
    "    fout.close();\n",
    "    cout << \"file \" << filename << \" saved successfully!\\n\";\n",
    "    cout << \"Finish save file \" << filename << \" total_size: \" << n_recv_total << \" bytes speed: \" << float(n_recv_total) / 1024 << \" kbs\" << endl;\n",
    "    close(server_sock);\n",
    "    close(client_sock);\n",
    "    return 0;\n",
    "}"
   ]
  },
  {
   "cell_type": "markdown",
   "metadata": {},
   "source": [
    "### client.cpp"
   ]
  },
  {
   "cell_type": "code",
   "execution_count": 6,
   "metadata": {},
   "outputs": [
    {
     "name": "stdout",
     "output_type": "stream",
     "text": [
      "Overwriting client.cpp\n"
     ]
    }
   ],
   "source": [
    "%%file client.cpp\n",
    "#include <iostream>\n",
    "#include <sys/socket.h>\n",
    "#include <cstring>\n",
    "#include <netinet/in.h>\n",
    "#include <arpa/inet.h>\n",
    "#include <fstream>\n",
    "#include <unistd.h>\n",
    "\n",
    "#define IP \"127.0.0.1\"\n",
    "#define PORT 5000\n",
    "#define BUFF_SIZE 1000\n",
    "\n",
    "int main()\n",
    "{\n",
    "    int server_sock = socket(AF_INET, SOCK_STREAM, IPPROTO_TCP); // 定义 socket\n",
    "\n",
    "    sockaddr_in server_addr; // 定义 ip\n",
    "    memset(&server_addr, 0, sizeof(server_addr));\n",
    "    server_addr.sin_family = AF_INET;\n",
    "    server_addr.sin_addr.s_addr = inet_addr(IP);\n",
    "    server_addr.sin_port = htons(PORT);\n",
    "\n",
    "    connect(server_sock, (sockaddr*)&server_addr, sizeof(server_addr)); // 连接服务端\n",
    "\n",
    "    std::cout << \"Input the path of file you want to upload:\" << std::endl;\n",
    "    std::string filename;\n",
    "    getline(std::cin, filename);\n",
    "\n",
    "    std::string save_filename;\n",
    "    std::cout << \"Input the filename you want to save:\" << std::endl;\n",
    "    getline(std::cin, save_filename);\n",
    "\n",
    "    send(server_sock, save_filename.c_str(), save_filename.size()+1, 0); // 发送给服务端保存的文件名\n",
    "\n",
    "    char buff[BUFF_SIZE];\n",
    "    std::ifstream fin(filename, std::ios_base::binary);\n",
    "    if (!fin) \n",
    "    {\n",
    "        std::cout << \"Can't open file \" << filename << std::endl;\n",
    "        fin.close();\n",
    "        close(server_sock);\n",
    "        return 0;\n",
    "    }\n",
    "    int n_send_total = 0;\n",
    "    int n_send = 0;\n",
    "    while (fin)\n",
    "    {\n",
    "        fin.read(buff, sizeof(buff));\n",
    "        n_send = send(server_sock, buff, sizeof(buff), 0);\n",
    "        if (n_send <= 0) break;\n",
    "        n_send_total += n_send;\n",
    "        std::cout << \"[Client] send to server \" << n_send << \" bytes\" <<  std::endl;\n",
    "        memset(buff, 0, sizeof(buff));\n",
    "    }\n",
    "    std::cout << \"Finish upload file \" << filename << \" total_size: \" << n_send_total << \" bytes speed: \" << float(n_send_total) / 1024 << \" kbs\" << std::endl;\n",
    "    fin.close();\n",
    "    close(server_sock);\n",
    "    return 0;\n",
    "}"
   ]
  },
  {
   "cell_type": "markdown",
   "metadata": {},
   "source": [
    "### 编译"
   ]
  },
  {
   "cell_type": "code",
   "execution_count": 7,
   "metadata": {},
   "outputs": [],
   "source": [
    "!g++ server.cpp -o server"
   ]
  },
  {
   "cell_type": "code",
   "execution_count": 8,
   "metadata": {},
   "outputs": [],
   "source": [
    "!g++ client.cpp -o client"
   ]
  },
  {
   "cell_type": "markdown",
   "metadata": {},
   "source": [
    "# References\n",
    "\n",
    "[socket文件传输功能的实现_C语言中文网](http://c.biancheng.net/cpp/html/3045.html)"
   ]
  }
 ],
 "metadata": {
  "kernelspec": {
   "display_name": "C++11 [conda env:cpp]",
   "language": "C++11",
   "name": "conda-env-cpp-xcpp11"
  },
  "language_info": {
   "codemirror_mode": "text/x-c++src",
   "file_extension": ".cpp",
   "mimetype": "text/x-c++src",
   "name": "c++",
   "version": "11"
  }
 },
 "nbformat": 4,
 "nbformat_minor": 4
}
