{
 "cells": [
  {
   "cell_type": "markdown",
   "metadata": {},
   "source": [
    "---\n",
    "title: C++ socket 回声服务端的实现\n",
    "tags: 小书匠,c++,socket,echo,networks\n",
    "grammar_cjkRuby: true\n",
    "renderNumberedHeading: true\n",
    "---\n",
    "\n",
    "[toc]\n",
    "\n",
    "# C++ socket 回声服务端的实现"
   ]
  },
  {
   "cell_type": "markdown",
   "metadata": {},
   "source": [
    "所谓回声服务器，顾名思义就是客户端发给它什么，它就返回给客户端什么。"
   ]
  },
  {
   "cell_type": "markdown",
   "metadata": {},
   "source": [
    "## 代码"
   ]
  },
  {
   "cell_type": "code",
   "execution_count": 56,
   "metadata": {},
   "outputs": [
    {
     "name": "stdout",
     "output_type": "stream",
     "text": [
      "Overwriting server.cpp\n"
     ]
    }
   ],
   "source": [
    "%%file server.cpp\n",
    "#include <iostream>\n",
    "#include <cstring> // for memset\n",
    "#include <sys/socket.h>\n",
    "#include <arpa/inet.h> // inet_addr\n",
    "#include <netinet/in.h> // IPPROTO_TCP\n",
    "#include <unistd.h>\n",
    "#define BUFF_SIZE 100\n",
    "\n",
    "int main() {\n",
    "    int serv_sock = socket(AF_INET, SOCK_STREAM, IPPROTO_TCP);\n",
    "\n",
    "    // 定义 serv 地址\n",
    "    sockaddr_in serv_addr;\n",
    "    memset(&serv_addr, 0, sizeof(serv_addr));\n",
    "    serv_addr.sin_family = AF_INET; // 使用 IPv4\n",
    "    serv_addr.sin_addr.s_addr = inet_addr(\"127.0.0.1\"); //指定 ip\n",
    "    serv_addr.sin_port = htons(1234); // 指定端口\n",
    "\n",
    "    bind(serv_sock, (sockaddr*)&serv_addr, sizeof(serv_addr));\n",
    "\n",
    "    listen(serv_sock, 20);\n",
    "    \n",
    "    // 定义 client 地址\n",
    "    sockaddr_in client_addr;\n",
    "    socklen_t client_addr_size = sizeof(client_addr);\n",
    "    \n",
    "    int client_sock = accept(serv_sock, (sockaddr*)&client_addr, &client_addr_size);\n",
    "    printf(\"[Server] Client %s conect to the server!\\n\", inet_ntoa(client_addr.sin_addr));\n",
    "    \n",
    "    char buffer[BUFF_SIZE];\n",
    "    \n",
    "    int iret = 0;\n",
    "    while (true)\n",
    "    {\n",
    "        iret = read(client_sock, buffer, BUFF_SIZE); // 接受数据\n",
    "        if (iret > 0)\n",
    "        {\n",
    "            printf(\"[Server] Message from client: %s len: %d\\n\", buffer, iret);\n",
    "            write(client_sock, buffer, sizeof(buffer)); // 原样返回\n",
    "            printf(\"[Server] Message to client: %s\\n\", buffer);\n",
    "        } else break;\n",
    "    }\n",
    "    close(client_sock);\n",
    "    close(serv_sock);\n",
    "    return 0;\n",
    "}"
   ]
  },
  {
   "cell_type": "code",
   "execution_count": 55,
   "metadata": {},
   "outputs": [
    {
     "name": "stdout",
     "output_type": "stream",
     "text": [
      "Overwriting client.cpp\n"
     ]
    }
   ],
   "source": [
    "%%file client.cpp\n",
    "#include <cstdio>\n",
    "#include <unistd.h>\n",
    "#include <arpa/inet.h>\n",
    "#include <sys/socket.h>\n",
    "#include <cstring>\n",
    "#include <iostream>\n",
    "\n",
    "int main()\n",
    "{\n",
    "    \n",
    "    int sock = socket(AF_INET, SOCK_STREAM, IPPROTO_TCP);\n",
    "    \n",
    "    sockaddr_in serv_addr;\n",
    "    memset(&serv_addr, 0, sizeof(serv_addr));\n",
    "    serv_addr.sin_family = AF_INET;\n",
    "    serv_addr.sin_addr.s_addr = inet_addr(\"127.0.0.1\");\n",
    "    serv_addr.sin_port = htons(1234);\n",
    "    \n",
    "    connect(sock, (sockaddr*)&serv_addr, sizeof(serv_addr)); // 连接\n",
    "    \n",
    "    // 获取用户输入\n",
    "    char buffer[100];\n",
    "    \n",
    "    // 发送给服务器\n",
    "    while (true)\n",
    "    {\n",
    "        std::cout << \"[Client] Input a string:\";\n",
    "        std::cin >> buffer;\n",
    "        write(sock, buffer, sizeof(buffer));\n",
    "        printf(\"[Client] Message to server: %s\\n\", buffer);\n",
    "        read(sock, buffer, sizeof(buffer)-1);\n",
    "        printf(\"[Client] Message from server: %s\\n\", buffer);\n",
    "        memset(buffer, 0, sizeof(buffer));\n",
    "    }\n",
    "    close(sock);\n",
    "    return 0;\n",
    "}"
   ]
  },
  {
   "cell_type": "code",
   "execution_count": 46,
   "metadata": {},
   "outputs": [],
   "source": [
    "!g++ server.cpp -o server\n",
    "!g++ client.cpp -o client"
   ]
  },
  {
   "cell_type": "markdown",
   "metadata": {},
   "source": [
    "# References\n",
    "- [回声客户端的实现_C语言中文网](http://c.biancheng.net/cpp/html/3038.html)\n",
    "- [实现迭代服务器端和客户端_C语言中文网](http://c.biancheng.net/cpp/html/3039.html)"
   ]
  }
 ],
 "metadata": {
  "kernelspec": {
   "display_name": "C++11 [conda env:cpp]",
   "language": "C++11",
   "name": "conda-env-cpp-xcpp11"
  },
  "language_info": {
   "codemirror_mode": "text/x-c++src",
   "file_extension": ".cpp",
   "mimetype": "text/x-c++src",
   "name": "c++",
   "version": "11"
  }
 },
 "nbformat": 4,
 "nbformat_minor": 4
}
