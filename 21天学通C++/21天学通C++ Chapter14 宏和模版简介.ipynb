{
 "cells": [
  {
   "cell_type": "markdown",
   "metadata": {},
   "source": [
    "---\n",
    "title: 21天学通C++ Chapter14 宏和模版简介\n",
    "tags: 小书匠,21天学通C++,macro,template,c++\n",
    "grammar_cjkRuby: true\n",
    "renderNumberedHeading: true\n",
    "---\n",
    "\n",
    "[toc]\n",
    "\n",
    "# 21天学通C++ Chapter14 宏和模版简介"
   ]
  },
  {
   "cell_type": "markdown",
   "metadata": {},
   "source": [
    "## 模版简介"
   ]
  },
  {
   "cell_type": "markdown",
   "metadata": {},
   "source": [
    "### 模版函数"
   ]
  },
  {
   "cell_type": "code",
   "execution_count": 4,
   "metadata": {},
   "outputs": [],
   "source": [
    "#include <iostream>\n",
    "#include <string>\n",
    "\n",
    "template<typename T>\n",
    "const T GetMax(const T& a, const T& b)\n",
    "{\n",
    "    return a > b ? a : b;\n",
    "}"
   ]
  },
  {
   "cell_type": "code",
   "execution_count": 5,
   "metadata": {},
   "outputs": [
    {
     "name": "stdout",
     "output_type": "stream",
     "text": [
      "40\n"
     ]
    }
   ],
   "source": [
    "int num1 = 25;\n",
    "int num2 = 40;\n",
    "int maxVal = GetMax<int>(num1, num2);\n",
    "std::cout << maxVal << \"\\n\";"
   ]
  },
  {
   "cell_type": "code",
   "execution_count": 6,
   "metadata": {},
   "outputs": [
    {
     "name": "stdout",
     "output_type": "stream",
     "text": [
      "1.2\n"
     ]
    }
   ],
   "source": [
    "double d1 = 1.1;\n",
    "double d2 = 1.2;\n",
    "double maxVal = GetMax<double>(d1, d2);\n",
    "std::cout << maxVal << \"\\n\";"
   ]
  },
  {
   "cell_type": "markdown",
   "metadata": {},
   "source": [
    "调用模版函数时不一定要显式指定模版参数。"
   ]
  },
  {
   "cell_type": "code",
   "execution_count": 9,
   "metadata": {},
   "outputs": [
    {
     "name": "stdout",
     "output_type": "stream",
     "text": [
      "world\n"
     ]
    }
   ],
   "source": [
    "std::string s1 = \"hello\";\n",
    "std::string s2 = \"world\";\n",
    "std::string maxVal = GetMax(s1, s2);\n",
    "std::cout << maxVal << \"\\n\";"
   ]
  },
  {
   "cell_type": "markdown",
   "metadata": {},
   "source": [
    "### 多个模版参数"
   ]
  },
  {
   "cell_type": "code",
   "execution_count": 3,
   "metadata": {},
   "outputs": [],
   "source": [
    "#include <iostream>\n",
    "\n",
    "template<typename T1, typename T2>\n",
    "class Pair\n",
    "{\n",
    "    private:\n",
    "        T1 val1_;\n",
    "        T2 val2_;\n",
    "    public: \n",
    "        Pair(const T1& val1, const T2& val2): val1_(val1), val2_(val2) {}\n",
    "        void show() const {\n",
    "            std::cout << \"Pair(val1=\" << val1_ << \", val2=\" << val2_ << \")\\n\";\n",
    "        }\n",
    "};        "
   ]
  },
  {
   "cell_type": "code",
   "execution_count": 4,
   "metadata": {},
   "outputs": [
    {
     "name": "stdout",
     "output_type": "stream",
     "text": [
      "Pair(val1=1, val2=1.2)\n"
     ]
    }
   ],
   "source": [
    "Pair<int, double> p(1, 1.2);\n",
    "p.show();"
   ]
  },
  {
   "cell_type": "markdown",
   "metadata": {},
   "source": [
    "### 在模版参数中使用默认参数"
   ]
  },
  {
   "cell_type": "code",
   "execution_count": 7,
   "metadata": {},
   "outputs": [],
   "source": [
    "template<typename T1=int, typename T2=int>\n",
    "void show(const T1& a, const T2& b)\n",
    "{\n",
    "    std::cout << \"a: \" << a << \" b: \" << b << \"\\n\";\n",
    "}"
   ]
  },
  {
   "cell_type": "markdown",
   "metadata": {},
   "source": [
    "如果要使用默认的模版参数，可以用下面的方式调用"
   ]
  },
  {
   "cell_type": "code",
   "execution_count": 9,
   "metadata": {},
   "outputs": [
    {
     "name": "stdout",
     "output_type": "stream",
     "text": [
      "a: 1 b: 2\n"
     ]
    }
   ],
   "source": [
    "show<>(1, 2);"
   ]
  },
  {
   "cell_type": "markdown",
   "metadata": {},
   "source": [
    "### 模版的具体化"
   ]
  },
  {
   "cell_type": "markdown",
   "metadata": {},
   "source": [
    "有的时候，我们需要给不同的参数类型指定不同的实现，这就是具体化模版。"
   ]
  },
  {
   "cell_type": "code",
   "execution_count": 11,
   "metadata": {},
   "outputs": [],
   "source": [
    "#include <iostream>\n",
    "\n",
    "template<typename T1=int, typename T2=int>\n",
    "class Pair {\n",
    "    private: \n",
    "        T1 val1_;\n",
    "        T2 val2_;\n",
    "    public:\n",
    "        Pair(const T1& val1, const T2& val2): val1_(val1), val2_(val2){}\n",
    "        void show() { std::cout << \"I am default implement\\n\"; }\n",
    "};\n",
    "\n",
    "template<>\n",
    "class Pair<int, int> {\n",
    "    private: \n",
    "        int val1_;\n",
    "        int val2_;\n",
    "    public:\n",
    "        Pair(const int& val1, const int& val2): val1_(val1), val2_(val2){}\n",
    "        void show() { std::cout << \"I am implement for T1=int, T2=int\\n\"; }\n",
    "};"
   ]
  },
  {
   "cell_type": "code",
   "execution_count": 12,
   "metadata": {},
   "outputs": [
    {
     "name": "stdout",
     "output_type": "stream",
     "text": [
      "I am implement for T1=int, T2=int\n",
      "I am default implement\n"
     ]
    }
   ],
   "source": [
    "Pair<int, int> p1(1,2);\n",
    "Pair<int, double> p2(1, 2.0);\n",
    "p1.show();\n",
    "p2.show();"
   ]
  },
  {
   "cell_type": "markdown",
   "metadata": {},
   "source": [
    "### 初始化模版中的静态成员"
   ]
  },
  {
   "cell_type": "code",
   "execution_count": 4,
   "metadata": {},
   "outputs": [],
   "source": [
    "#include <iostream>\n",
    "\n",
    "template<typename T>\n",
    "class TestStatic {\n",
    "    public:\n",
    "        static T staticVal;\n",
    "};\n",
    "\n",
    "template<typename T> T TestStatic<T>::staticVal;"
   ]
  },
  {
   "cell_type": "code",
   "execution_count": 5,
   "metadata": {},
   "outputs": [
    {
     "name": "stdout",
     "output_type": "stream",
     "text": [
      "0\n",
      "0\n"
     ]
    }
   ],
   "source": [
    "std::cout << TestStatic<int>::staticVal << \"\\n\";\n",
    "std::cout << TestStatic<double>::staticVal << \"\\n\";"
   ]
  },
  {
   "cell_type": "markdown",
   "metadata": {},
   "source": [
    "# References"
   ]
  },
  {
   "cell_type": "code",
   "execution_count": null,
   "metadata": {},
   "outputs": [],
   "source": []
  },
  {
   "cell_type": "code",
   "execution_count": null,
   "metadata": {},
   "outputs": [],
   "source": []
  }
 ],
 "metadata": {
  "kernelspec": {
   "display_name": "C++11 [conda env:cpp]",
   "language": "C++11",
   "name": "conda-env-cpp-xcpp11"
  },
  "language_info": {
   "codemirror_mode": "text/x-c++src",
   "file_extension": ".cpp",
   "mimetype": "text/x-c++src",
   "name": "c++",
   "version": "11"
  }
 },
 "nbformat": 4,
 "nbformat_minor": 4
}
