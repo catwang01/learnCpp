{
 "cells": [
  {
   "cell_type": "markdown",
   "metadata": {},
   "source": [
    "---\n",
    "title: 21天学通C++ Chapter13 类型转换运算符\n",
    "tags: 小书匠,21天学通C++,static_cast,const_cast\n",
    "grammar_cjkRuby: true\n",
    "renderNumberedHeading: true\n",
    "---\n",
    "\n",
    "[toc]\n",
    "\n",
    "# 21天学通C++ Chapter13 类型转换运算符"
   ]
  },
  {
   "cell_type": "markdown",
   "metadata": {},
   "source": [
    "## C 风格的类型转换"
   ]
  },
  {
   "cell_type": "markdown",
   "metadata": {},
   "source": [
    "优点是书写简单并且直观。缺点是不会进行检查。"
   ]
  },
  {
   "cell_type": "code",
   "execution_count": 4,
   "metadata": {},
   "outputs": [],
   "source": [
    "char s[] = {'h', 'e', 'l', 'l', 'o', '\\0'};\n",
    "int* intArray = (int*) s"
   ]
  },
  {
   "cell_type": "markdown",
   "metadata": {},
   "source": [
    "## C++ 的四种类型转换符"
   ]
  },
  {
   "cell_type": "markdown",
   "metadata": {},
   "source": [
    "- static_cast 用于编译时转换\n",
    "- dynamic_cast 用于运行时转换\n",
    "- const_cast 用于将 const 对象转换为非 const 对象\n",
    "- reinterpret_cast 类型于 C 风格转换"
   ]
  },
  {
   "cell_type": "code",
   "execution_count": 28,
   "metadata": {},
   "outputs": [],
   "source": [
    "#include <iostream>\n",
    "\n",
    "class Base { };\n",
    "class Derived: public Base {};"
   ]
  },
  {
   "cell_type": "markdown",
   "metadata": {},
   "source": [
    "## static_cast"
   ]
  },
  {
   "cell_type": "markdown",
   "metadata": {},
   "source": [
    "static_cast 在类型转换的时候会检查是否相关（也就是说有继承关系），主要用于 Downcast，upcast 不需要 static_cast 就可以直接转换。\n",
    "\n",
    "- Upcast:  Derived -> Base \n",
    "- DownCast: Base -> Derived"
   ]
  },
  {
   "cell_type": "markdown",
   "metadata": {},
   "source": [
    "### UpCast"
   ]
  },
  {
   "cell_type": "code",
   "execution_count": 29,
   "metadata": {},
   "outputs": [],
   "source": [
    "Derived* pDerived = new Derived;\n",
    "Base* pBase = pDerived; // 默认 upcast"
   ]
  },
  {
   "cell_type": "markdown",
   "metadata": {},
   "source": [
    "也可以使用 static_cast"
   ]
  },
  {
   "cell_type": "code",
   "execution_count": 30,
   "metadata": {},
   "outputs": [],
   "source": [
    "Base* pBase = static_cast<Base*>(pDerived);"
   ]
  },
  {
   "cell_type": "markdown",
   "metadata": {},
   "source": [
    "### DownCast"
   ]
  },
  {
   "cell_type": "code",
   "execution_count": 31,
   "metadata": {},
   "outputs": [],
   "source": [
    "Base* pBase = new Derived;\n",
    "Derived* pDerived = static_cast<Derived*>(pBase);"
   ]
  },
  {
   "cell_type": "markdown",
   "metadata": {},
   "source": [
    "当然，还可以使用 C 风格"
   ]
  },
  {
   "cell_type": "code",
   "execution_count": 32,
   "metadata": {},
   "outputs": [],
   "source": [
    "Base* pBase = new Derived;\n",
    "Derived* pDerived = (Derived*)pBase;"
   ]
  },
  {
   "cell_type": "markdown",
   "metadata": {},
   "source": [
    "但是如果是一个没有继承关系的类进行转换，static_cast 会阻止这种行为，而 C 风格的类型转换不会报错"
   ]
  },
  {
   "cell_type": "code",
   "execution_count": 38,
   "metadata": {},
   "outputs": [],
   "source": [
    "class Unrelated {};\n",
    "\n",
    "Unrelated* pUnrelated = (Unrelated*)pBase\n",
    "// static_cast 会检测出这种错误\n",
    "// Unrelated* pUnrelated = static_cast<Unrelated*>(pBase) //  error: static_cast from 'Base *' to 'Unrelated *', which are not related by inheritance, is not allowed"
   ]
  },
  {
   "cell_type": "markdown",
   "metadata": {},
   "source": [
    "## dynamic_cast"
   ]
  },
  {
   "cell_type": "markdown",
   "metadata": {},
   "source": [
    "static_cast 只能静态检测，但是有可能有的错误是动态发生的。如下面的例子，其中试图将一个 Base 对象赋值给一个 Derived 指针。这在 static_cast 看来是正确的，因为 Base 和 Derived 是有继承关系的。"
   ]
  },
  {
   "cell_type": "code",
   "execution_count": 23,
   "metadata": {},
   "outputs": [],
   "source": [
    "Base* pBase = new Base;\n",
    "Derived* pDerived = static_cast<Derived*>(pBase);"
   ]
  },
  {
   "cell_type": "markdown",
   "metadata": {},
   "source": [
    "但是，再 dynamic_cast 看来这是错误的，因为 Base 对象转换到 Derived 对象是缺少信息的。"
   ]
  },
  {
   "cell_type": "code",
   "execution_count": 39,
   "metadata": {},
   "outputs": [],
   "source": [
    "Base* pBase = new Base;\n",
    "// Derived* pDerived = dynamic_cast<Derived*>(pBase); // Base' is not polymorphic"
   ]
  },
  {
   "cell_type": "markdown",
   "metadata": {},
   "source": [
    "## const_cast"
   ]
  },
  {
   "cell_type": "code",
   "execution_count": 40,
   "metadata": {},
   "outputs": [],
   "source": [
    "#include <iostream>\n",
    "class SimpleClass {\n",
    "    public:\n",
    "        void sayHello() {\n",
    "            std::cout << \"hello world!\\n\";\n",
    "        }\n",
    "    \n",
    "}"
   ]
  },
  {
   "cell_type": "code",
   "execution_count": 41,
   "metadata": {},
   "outputs": [
    {
     "name": "stderr",
     "output_type": "stream",
     "text": [
      "\u001b[1minput_line_51:3:5: \u001b[0m\u001b[0;1;31merror: \u001b[0m\u001b[1mmember function 'sayHello' not viable: 'this' argument has type 'const __cling_N541::SimpleClass', but function is not marked const\u001b[0m\n",
      "    simple.sayHello();\n",
      "\u001b[0;1;32m    ^~~~~~\n",
      "\u001b[0m\u001b[1minput_line_50:3:14: \u001b[0m\u001b[0;1;30mnote: \u001b[0m'sayHello' declared here\u001b[0m\n",
      "        void sayHello() {\n",
      "\u001b[0;1;32m             ^\n",
      "\u001b[0m"
     ]
    },
    {
     "ename": "Interpreter Error",
     "evalue": "",
     "output_type": "error",
     "traceback": [
      "Interpreter Error: "
     ]
    }
   ],
   "source": [
    "void myFunc(const SimpleClass& simple) \n",
    "{\n",
    "    simple.sayHello(); // error: member function 'sayHello' not viable: 'this' argument has type 'const SimpleClass', but function is not marked const\n",
    "}"
   ]
  },
  {
   "cell_type": "markdown",
   "metadata": {},
   "source": [
    "上面的例子中，sayHello 函数本身不修改对象，因此在 myFunc 中使用一个 const 引用是没有问题的。但是 SimpleClass 源码中由于 sayHello 没有标志为 const，因此导致 myFunc 的调用会报错。\n",
    "\n",
    "如果 SimpleClass 我们维护的代码，我们可以通过给 sayHello 添加 const 标志来解决。但是很多情况下我们都是使用第三方库，此时我们就只能使用 const_cast 来将 simple 变成非 const 引用了。"
   ]
  },
  {
   "cell_type": "code",
   "execution_count": 48,
   "metadata": {},
   "outputs": [],
   "source": [
    "void myFunc(const SimpleClass& simple) \n",
    "{\n",
    "    SimpleClass& nonConstSimple = const_cast<SimpleClass&>(simple);\n",
    "    nonConstSimple.sayHello(); // error: member function 'sayHello' not viable: 'this' argument has type 'const SimpleClass', but function is not marked const\n",
    "}"
   ]
  },
  {
   "cell_type": "markdown",
   "metadata": {},
   "source": [
    "# References\n",
    "\n",
    "- 21天学通C++ 第8版 第13章 类型转换运算符"
   ]
  }
 ],
 "metadata": {
  "kernelspec": {
   "display_name": "C++11 [conda env:cpp]",
   "language": "C++11",
   "name": "conda-env-cpp-xcpp11"
  },
  "language_info": {
   "codemirror_mode": "text/x-c++src",
   "file_extension": ".cpp",
   "mimetype": "text/x-c++src",
   "name": "c++",
   "version": "11"
  }
 },
 "nbformat": 4,
 "nbformat_minor": 4
}
