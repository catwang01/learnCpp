{
 "cells": [
  {
   "cell_type": "markdown",
   "metadata": {},
   "source": [
    "---\n",
    "title: 21天学通C++ Chapter28 异常处理\n",
    "tags: 小书匠,21天学通C++,c++,exception,try,catch\n",
    "grammar_cjkRuby: true\n",
    "renderNumberedHeading: true\n",
    "---\n",
    "\n",
    "[toc]\n",
    "\n",
    "# 21天学通C++ Chapter28 异常处理"
   ]
  },
  {
   "cell_type": "markdown",
   "metadata": {},
   "source": [
    "## 使用try和catch捕获异常"
   ]
  },
  {
   "cell_type": "markdown",
   "metadata": {},
   "source": [
    "### 使用 catch(...) 捕获所有异常"
   ]
  },
  {
   "cell_type": "markdown",
   "metadata": {},
   "source": [
    "这样虽然可以捕获所有异常，但是坏处是无法得到更具体的异常的信息"
   ]
  },
  {
   "cell_type": "code",
   "execution_count": 2,
   "metadata": {},
   "outputs": [],
   "source": [
    "#include <iostream>\n",
    "\n",
    "void Foo() {\n",
    "    try {\n",
    "        int* numPtr = new int;\n",
    "        *numPtr = 99;\n",
    "        delete numPtr;\n",
    "    }\n",
    "    catch(...)\n",
    "    {\n",
    "        std::cout << \"Exception in Foo\" << std::endl;\n",
    "    }\n",
    "}\n",
    "\n",
    "Foo();"
   ]
  },
  {
   "cell_type": "markdown",
   "metadata": {},
   "source": [
    "### 使用 catch(Type& obj) 捕获特定异常"
   ]
  },
  {
   "cell_type": "code",
   "execution_count": 7,
   "metadata": {},
   "outputs": [],
   "source": [
    "#include <iostream>\n",
    "#include <exception>\n",
    "\n",
    "int main()\n",
    "{\n",
    "    using namespace std;\n",
    "    try \n",
    "    {\n",
    "        int input = 0;\n",
    "        cin >> input;\n",
    "    }\n",
    "    catch (std::bad_alloc& exp) \n",
    "    {\n",
    "        cout << \"Exception encountered: \" << exp.what() << endl;\n",
    "    }\n",
    "    catch(...)\n",
    "    {\n",
    "        cout << \"Exception encountered\" << endl;\n",
    "    }\n",
    "    return 0;\n",
    "}"
   ]
  },
  {
   "cell_type": "markdown",
   "metadata": {},
   "source": [
    "### 使用 catch(const std::exception) 捕获所有标准异常"
   ]
  },
  {
   "cell_type": "markdown",
   "metadata": {},
   "source": [
    "所有的标准异常都继承自 `std::exception` 这个类，因此我们只需要捕获属于这个类的异常就可以获取所有的标准异常。"
   ]
  },
  {
   "cell_type": "code",
   "execution_count": 9,
   "metadata": {},
   "outputs": [],
   "source": [
    "#include <iostream>\n",
    "#include <exception>\n",
    "\n",
    "int main()\n",
    "{\n",
    "    using namespace std;\n",
    "    try \n",
    "    {\n",
    "        int input = 0;\n",
    "        cin >> input;\n",
    "    }\n",
    "    catch (std::bad_alloc& exp) \n",
    "    {\n",
    "        cout <<  exp.what() << endl;\n",
    "    }\n",
    "    catch(const std::exception exp)\n",
    "    {\n",
    "        cout << exp.what() << endl;\n",
    "    }\n",
    "    return 0;\n",
    "}"
   ]
  },
  {
   "cell_type": "markdown",
   "metadata": {},
   "source": [
    "## 自定义异常"
   ]
  },
  {
   "cell_type": "markdown",
   "metadata": {},
   "source": [
    "我们通过继承 std::exception 可以实现自定义异常。一般只需要定义 what() 方法就可以。注意覆盖 what 时的语法"
   ]
  },
  {
   "cell_type": "code",
   "execution_count": 10,
   "metadata": {},
   "outputs": [],
   "source": [
    "#include <iostream>\n",
    "#include <exception>\n",
    "\n",
    "class DividedByZero: public std::exception\n",
    "{\n",
    "    std::string reason;\n",
    "    public:\n",
    "        DividedByZero(const char* why): reason(why) {}\n",
    "        virtual const char* what() const throw()\n",
    "        {\n",
    "            return reason.c_str();\n",
    "        }\n",
    "}"
   ]
  },
  {
   "cell_type": "code",
   "execution_count": 11,
   "metadata": {},
   "outputs": [],
   "source": [
    "double divide(double a, double b)\n",
    "{\n",
    "    if (b == 0)\n",
    "        throw DividedByZero(\"divid by zero!\");\n",
    "    return a / b;\n",
    "}"
   ]
  },
  {
   "cell_type": "code",
   "execution_count": 12,
   "metadata": {},
   "outputs": [
    {
     "name": "stdout",
     "output_type": "stream",
     "text": [
      "divid by zero!\n"
     ]
    }
   ],
   "source": [
    "try {\n",
    "    int c = divide(1, 0);\n",
    "}\n",
    "catch(DividedByZero& exp)\n",
    "{\n",
    "    std::cout <<  exp.what() << std::endl;\n",
    "}"
   ]
  },
  {
   "cell_type": "markdown",
   "metadata": {},
   "source": [
    "# References\n",
    "- 21天学通C++ Chapter28 Version8 异常处理"
   ]
  }
 ],
 "metadata": {
  "kernelspec": {
   "display_name": "C++11 [conda env:cpp]",
   "language": "C++11",
   "name": "conda-env-cpp-xcpp11"
  },
  "language_info": {
   "codemirror_mode": "text/x-c++src",
   "file_extension": ".cpp",
   "mimetype": "text/x-c++src",
   "name": "c++",
   "version": "11"
  }
 },
 "nbformat": 4,
 "nbformat_minor": 4
}
