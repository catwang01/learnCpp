{
 "cells": [
  {
   "cell_type": "markdown",
   "metadata": {},
   "source": [
    "---\n",
    "title: C++ Primer Plus: ch8 References Variables\n",
    "tags: 小书匠,Books-C++PrimerPlus,reference,rvalue,lvalue\n",
    "grammar_cjkRuby: true\n",
    "renderNumberedHeading: true\n",
    "---\n",
    "\n",
    "[toc]\n",
    "\n",
    "# C++ Primer Plus: ch8 References Variables"
   ]
  },
  {
   "cell_type": "markdown",
   "metadata": {},
   "source": [
    "## Temporary variables, Reference Arguments and const[#const-temporary]"
   ]
  },
  {
   "cell_type": "markdown",
   "metadata": {},
   "source": [
    "### const reference allows mismatching types and rvalues <!-- {#const-temporary} -->"
   ]
  },
  {
   "cell_type": "markdown",
   "metadata": {},
   "source": [
    "When using `const reference`, C++ can generate a temporary variable in two kinds of  situations\n",
    "1. when the assigned value mismatch the correct type of the const reference\n",
    "2. when the assigned value is an rvalue"
   ]
  },
  {
   "cell_type": "markdown",
   "metadata": {},
   "source": [
    "Here is an example of the assigned value mismatch the correct type of the const reference"
   ]
  },
  {
   "cell_type": "code",
   "execution_count": 1,
   "metadata": {},
   "outputs": [
    {
     "name": "stdout",
     "output_type": "stream",
     "text": [
      "0x10ed852b0\n",
      "0x10ed852a8\n"
     ]
    }
   ],
   "source": [
    "#include <iostream>\n",
    "using namespace std;\n",
    "\n",
    "int a = 1;\n",
    "const double& x = a; // a is of type int\n",
    "                     // while reference x is of type double\n",
    "                     // A temporary value will be created to which x will refer\n",
    "// a's and x's addresses are different\n",
    "cout << &a << endl;\n",
    "cout << &x << endl;"
   ]
  },
  {
   "cell_type": "code",
   "execution_count": 2,
   "metadata": {},
   "outputs": [
    {
     "name": "stdout",
     "output_type": "stream",
     "text": [
      "0x10ed8544c\n",
      "0x10ed8544c\n"
     ]
    }
   ],
   "source": [
    "int b = 1;\n",
    "const int& y = b; // b is of type int\n",
    "                  // y is of type int\n",
    "                  // No temporary value will be created here\n",
    "// b's and y's addresses are the same\n",
    "cout << &b << endl;\n",
    "cout << &y << endl;"
   ]
  },
  {
   "cell_type": "markdown",
   "metadata": {},
   "source": [
    "Here is an example of const reference to an rvalue."
   ]
  },
  {
   "cell_type": "code",
   "execution_count": 3,
   "metadata": {},
   "outputs": [],
   "source": [
    "const int& x = 1;"
   ]
  },
  {
   "cell_type": "markdown",
   "metadata": {},
   "source": [
    "### non-const values DOESN'T allow mismatching types and rvalues"
   ]
  },
  {
   "cell_type": "markdown",
   "metadata": {},
   "source": [
    "Here are examples"
   ]
  },
  {
   "cell_type": "code",
   "execution_count": 4,
   "metadata": {},
   "outputs": [],
   "source": [
    "#include <iostream>\n",
    "using namespace std;\n",
    "\n",
    "int a = 1;\n",
    "const double& x = a;    // valid. A temporary value will be created\n",
    "// double &y = a;       // error"
   ]
  },
  {
   "cell_type": "code",
   "execution_count": 5,
   "metadata": {},
   "outputs": [],
   "source": [
    "const int& x = 1; // valid. A const reference can be bind to an rvalue\n",
    "// int& y = 1;    // error non-const reference cannot be bind to rvalue"
   ]
  },
  {
   "cell_type": "markdown",
   "metadata": {},
   "source": [
    "### Why does non-const reference and const reference act differently?"
   ]
  },
  {
   "cell_type": "markdown",
   "metadata": {},
   "source": [
    "In short, if the intent of a reference is merely to reference the bound variable instead of modifying the variable, a temporary variable will be created and bound to the const reference.\n",
    "\n",
    "While if the intent of a reference is to modify the bound variable, the temporary variable will not be created and bound to the const reference, because it will thwart the purpose of modifying the bound variable. In this case, C++ will throw an error to prohibit creating temporary variables."
   ]
  },
  {
   "cell_type": "markdown",
   "metadata": {},
   "source": [
    "## Use reference as return value"
   ]
  },
  {
   "cell_type": "markdown",
   "metadata": {},
   "source": [
    "### Why return a reference"
   ]
  },
  {
   "cell_type": "markdown",
   "metadata": {},
   "source": [
    "The main reason to return a reference is to avoid unneccessary copies. \n",
    "\n",
    "Returning a value will cause several copies. Let see what happens when return a value."
   ]
  },
  {
   "cell_type": "code",
   "execution_count": 8,
   "metadata": {},
   "outputs": [],
   "source": [
    "double m = sqrt(16.0);"
   ]
  },
  {
   "cell_type": "markdown",
   "metadata": {},
   "source": [
    "Assume `sqrt` returns a value, \n",
    "1. returned value 4.0 will be copied into a temporary variable. \n",
    "2. Then this temporary variable will be used to initialize m, here may invoke at least one copy."
   ]
  },
  {
   "cell_type": "markdown",
   "metadata": {},
   "source": [
    "While if return a reference, not copies is needed. Thus, return a reference will boost the efficiency."
   ]
  },
  {
   "cell_type": "markdown",
   "metadata": {},
   "source": [
    "Note:\n",
    "1. Accoarding to previous discussion, **functions returning a value will return an rvalue**.\n",
    "2. In C++11, the return procedure described previously will be optimized with move sematic."
   ]
  },
  {
   "cell_type": "markdown",
   "metadata": {},
   "source": [
    "### Being careful about what a return reference refers to"
   ]
  },
  {
   "cell_type": "markdown",
   "metadata": {},
   "source": [
    "The single most important point to remember when returning a reference is to avoid returning a reference to a memory location that ceases to exist when the function terminates."
   ]
  },
  {
   "cell_type": "code",
   "execution_count": 6,
   "metadata": {},
   "outputs": [],
   "source": [
    "int copy1(const int& a)\n",
    "{\n",
    "    int b = a;\n",
    "    return b;\n",
    "}"
   ]
  },
  {
   "cell_type": "code",
   "execution_count": 7,
   "metadata": {},
   "outputs": [
    {
     "name": "stderr",
     "output_type": "stream",
     "text": [
      "\u001b[1minput_line_15:4:12: \u001b[0m\u001b[0;1;35mwarning: \u001b[0m\u001b[1mreference to stack memory associated with local variable 'b' returned [-Wreturn-stack-address]\u001b[0m\n",
      "    return b;\n",
      "\u001b[0;1;32m           ^\n",
      "\u001b[0m"
     ]
    },
    {
     "name": "stdout",
     "output_type": "stream",
     "text": [
      "1\n",
      "1\n"
     ]
    }
   ],
   "source": [
    "int& copy2(const int& a)\n",
    "{\n",
    "    int b = a;\n",
    "    return b;\n",
    "} // warning reference to stack memory associated with local variable 'b' returned\n",
    "\n",
    "int x = 1;\n",
    "int b1 = copy1(x);\n",
    "int& b2 = copy2(x);\n",
    "cout << b1 << endl;\n",
    "cout << b2 << endl;"
   ]
  },
  {
   "cell_type": "markdown",
   "metadata": {},
   "source": [
    "Avoiding such problems are easy: do not return a reference to a memory location that ceases to exists when the function terminates.\n",
    "There are two guidelines:\n",
    "1. Returning references to the called parameters\n",
    "2. Returning references to the allocated memory using new in the function."
   ]
  },
  {
   "cell_type": "markdown",
   "metadata": {},
   "source": [
    "## Use const when you can"
   ]
  },
  {
   "cell_type": "markdown",
   "metadata": {},
   "source": [
    "There are mainly three reasons to use const if possible"
   ]
  },
  {
   "cell_type": "markdown",
   "metadata": {},
   "source": [
    "1. Using a const reference protects the variable from being modified unexpectedly.\n",
    "\n",
    "2. Using a const reference allows a function to process both const and non-const data.\n",
    "\n",
    "3. Using a const reference allows the function to generate and use a temporary variable appropriately"
   ]
  },
  {
   "cell_type": "markdown",
   "metadata": {},
   "source": [
    "### Passing a C-style string argument to a string object reference parameter"
   ]
  },
  {
   "cell_type": "markdown",
   "metadata": {},
   "source": [
    "The following two examples illustrates passing a c-style string argument to a string object reference parameter."
   ]
  },
  {
   "cell_type": "code",
   "execution_count": 13,
   "metadata": {},
   "outputs": [
    {
     "name": "stdout",
     "output_type": "stream",
     "text": [
      "hello world\n"
     ]
    }
   ],
   "source": [
    "void print1(const string& s)\n",
    "{\n",
    "   cout << s << endl; \n",
    "}\n",
    "\n",
    "print1(\"hello world\");  // Type mismatches. const string is expected while actual type is char*\n",
    "                        // A temporary string object initialized with \"hello world\" will be created and referred to"
   ]
  },
  {
   "cell_type": "code",
   "execution_count": 15,
   "metadata": {},
   "outputs": [
    {
     "name": "stderr",
     "output_type": "stream",
     "text": [
      "\u001b[1minput_line_23:6:2: \u001b[0m\u001b[0;1;31merror: \u001b[0m\u001b[1mno matching function for call to 'print2'\u001b[0m\n",
      " print2(\"hello world\"); // A non-const reference cannot will raise an error when type mismatch\n",
      "\u001b[0;1;32m ^~~~~~\n",
      "\u001b[0m\u001b[1minput_line_23:1:6: \u001b[0m\u001b[0;1;30mnote: \u001b[0mcandidate function not viable: no known conversion from 'const char [12]' to 'std::__1::string &'\n",
      "      (aka 'basic_string<char, char_traits<char>, allocator<char> > &') for 1st argument\u001b[0m\n",
      "void print2(string& s)\n",
      "\u001b[0;1;32m     ^\n",
      "\u001b[0m"
     ]
    },
    {
     "ename": "Interpreter Error",
     "evalue": "",
     "output_type": "error",
     "traceback": [
      "Interpreter Error: "
     ]
    }
   ],
   "source": [
    "void print2(string& s)\n",
    "{\n",
    "   cout << s << endl; \n",
    "} // error\n",
    "\n",
    "print2(\"hello world\"); // A non-const reference cannot will raise an error when type mismatch\n",
    "                       // error: no matching function for call to 'print2'"
   ]
  },
  {
   "cell_type": "markdown",
   "metadata": {},
   "source": [
    "The reason is [here](#const-temporary). Non-const will prohibit creating temporary variable. Thus, prototype `void print2(string&)` will not match in the of type char*."
   ]
  },
  {
   "cell_type": "markdown",
   "metadata": {},
   "source": [
    "# References"
   ]
  },
  {
   "cell_type": "code",
   "execution_count": null,
   "metadata": {},
   "outputs": [],
   "source": []
  }
 ],
 "metadata": {
  "kernelspec": {
   "display_name": "C++11 [conda env:cpp]",
   "language": "C++11",
   "name": "conda-env-cpp-xcpp11"
  },
  "language_info": {
   "codemirror_mode": "text/x-c++src",
   "file_extension": ".cpp",
   "mimetype": "text/x-c++src",
   "name": "c++",
   "version": "11"
  }
 },
 "nbformat": 4,
 "nbformat_minor": 4
}
