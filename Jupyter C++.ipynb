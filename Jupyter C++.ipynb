{
 "cells": [
  {
   "cell_type": "markdown",
   "metadata": {},
   "source": [
    "---\n",
    "title: Jupyter C++ 环境\n",
    "tags: 小书匠,jupyter,c++\n",
    "grammar_cjkRuby: true\n",
    "renderNumberedHeading: true\n",
    "---\n",
    "\n",
    "[toc]\n",
    "\n",
    "# Jupyter C++ 环境"
   ]
  },
  {
   "cell_type": "markdown",
   "metadata": {},
   "source": [
    "## 如何安装"
   ]
  },
  {
   "cell_type": "markdown",
   "metadata": {},
   "source": [
    "主要参考 [ 1 ]"
   ]
  },
  {
   "cell_type": "markdown",
   "metadata": {},
   "source": [
    "*   创建新的虚拟环境，命名为`cling`，或者你喜欢的其他名称，比如，如果你想在此环境安装C++和C Kernel，可以取名为`c_cpp`\n",
    "\n",
    "\n",
    "```text\n",
    "conda create -n cling\n",
    "```\n",
    "\n",
    "*   切换到新创建的虚拟环境\n",
    "\n",
    "```text\n",
    "conda activate cling\n",
    "```\n",
    "\n",
    "*   给新环境安装`jupyter`和`notebook`\n",
    "\n",
    "```text\n",
    "conda install jupyter notebook\n",
    "```\n",
    "\n",
    "*   使用`conda-forge`镜像channel安装`xeus-cling`\n",
    "\n",
    "```text\n",
    "conda install xeus-cling -c conda-forge\n",
    "```\n",
    "\n",
    "*   检查是否成功安装了kernel\n",
    "\n",
    "```\n",
    "jupyter kernelspec list\n",
    "```"
   ]
  },
  {
   "cell_type": "markdown",
   "metadata": {},
   "source": [
    "## 一些报错"
   ]
  },
  {
   "cell_type": "markdown",
   "metadata": {},
   "source": [
    "### Redefinition\n",
    "\n",
    "旧版本中，如果重复定义一个变量，会报错。新版本中这个问题被解决了。\n",
    "\n",
    "[Running cells with declarations multiple times: redefinition error - any workarounds? · Issue #91 · jupyter-xeus/xeus-cling](https://github.com/jupyter-xeus/xeus-cling/issues/91)"
   ]
  },
  {
   "cell_type": "markdown",
   "metadata": {},
   "source": [
    "### error: function definition is not allowed here"
   ]
  },
  {
   "cell_type": "markdown",
   "metadata": {},
   "source": [
    "可以参考 github 上的 issue [function definition is not allowed here · Issue #333 · jupyter-xeus/xeus-cling](https://github.com/jupyter-xeus/xeus-cling/issues/333)\n",
    "\n",
    ">please be sure to define your function in a separate cell with no code before the definition.\n",
    " https://diigo.com/0kbxat"
   ]
  },
  {
   "cell_type": "markdown",
   "metadata": {},
   "source": [
    "## Magic Command"
   ]
  },
  {
   "cell_type": "markdown",
   "metadata": {},
   "source": [
    "[Magic commands — xeus-cling documentation](https://xeus-cling.readthedocs.io/en/latest/magics.html)"
   ]
  },
  {
   "cell_type": "markdown",
   "metadata": {},
   "source": [
    "# References\n",
    "\n",
    "1. [jupyter notebook 安装 C/C++ kernel - 知乎](https://zhuanlan.zhihu.com/p/82025119)\n",
    "2. [Introduction — xeus-cling documentation](https://xeus-cling.readthedocs.io/en/latest/)"
   ]
  }
 ],
 "metadata": {
  "kernelspec": {
   "display_name": "Python 3",
   "language": "python",
   "name": "python3"
  },
  "language_info": {
   "codemirror_mode": {
    "name": "ipython",
    "version": 3
   },
   "file_extension": ".py",
   "mimetype": "text/x-python",
   "name": "python",
   "nbconvert_exporter": "python",
   "pygments_lexer": "ipython3",
   "version": "3.7.3"
  }
 },
 "nbformat": 4,
 "nbformat_minor": 4
}
