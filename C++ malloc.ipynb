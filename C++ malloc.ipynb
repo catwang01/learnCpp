{
 "cells": [
  {
   "cell_type": "markdown",
   "metadata": {},
   "source": [
    "---\n",
    "title: C++ malloc/calloc/realloc 区别\n",
    "tags: 小书匠,C++,malloc,calloc/realloc\n",
    "grammar_cjkRuby: true\n",
    "renderNumberedHeading: true\n",
    "---\n",
    "\n",
    "[toc]\n",
    "\n",
    "# C++ malloc/calloc/realloc 区别"
   ]
  },
  {
   "cell_type": "markdown",
   "metadata": {},
   "source": [
    "```\n",
    "void* malloc(unsigned size);\n",
    "```\n",
    "在内存的动态存储区中分配一块长度为size字节的连续区域，参数size为需要内存空间的长度，返回该区域的首地址.\n",
    "    \n",
    "```\n",
    "void* calloc(size_t numElements, size_t sizeOfElement); \n",
    "```\n",
    "\n",
    "与malloc相似,参数sizeOfElement为申请地址的单位元素长度,numElements为元素个数，即在内存中申请numElements*sizeOfElement字节大小的连续地址空间.\n",
    "\n",
    "```\n",
    "void* realloc(void* ptr, unsigned newsize);  \n",
    "```\n",
    "给一个已经分配了地址的指针重新分配空间,参数ptr为原有的空间地址,newsize是重新申请的地址长度.\n",
    "\n",
    "注意，上面的三个函数返回的都是一个 `void*` 类型指针，表示未确定类型的指针（毕竟我们还不知道这个内存分配出来用来干嘛）C,C++规定，void* 类型可以强制转换为任何其它类型的指针.\n",
    "\n",
    "1. 函数malloc不能初始化所分配的内存空间,而函数calloc能如果由malloc()函数分配的内存空间原来没有被使用过，则其中的每一位可能都是0; 反之, 如果这部分内存曾经被分配过,则其中可能遗留有各种各样的数据\n",
    "\n",
    "2. 函数calloc() 会将所分配的内存空间中的每一位都初始化为零,也就是说,如果你是为字符类型或整数类型的元素分配内存,那么这些元素将保证会被初始化为0;如果你是为指针类型的元素分配内存,那么这些元素通常会被**初始化为空指针**;如果你为实型数据分配内存,则这些元素会被初始化为浮点型的零.\n",
    "\n",
    "3. realloc可以对给定的指针所指的空间进行扩大或者缩小，无论是扩张或是缩小，原有内存的中内容将保持不变。\n",
    "    - 对于缩小，则被缩小的那一部分的内容会丢失。\n",
    "    - 对于扩大，realloc()试图直接从堆上现存的数据后面的那些字节中获得附加的字节，如果能够满足，自然天下太平；如果数据后面的字节不够，那么就使用堆上第一个有足够大小的自由块，现存的数据然后就被拷贝至新的位置，而老块则放回到堆上。\n",
    "   因此，realloc并不保证调整后的内存空间和原来的内存空间保持同一内存地址"
   ]
  },
  {
   "cell_type": "markdown",
   "metadata": {},
   "source": [
    "# References\n",
    "- [malloc、calloc、realloc的区别 - DoubleLi - 博客园](https://www.cnblogs.com/lidabo/p/4611411.html)"
   ]
  }
 ],
 "metadata": {
  "kernelspec": {
   "display_name": "C++11 [conda env:cpp]",
   "language": "C++11",
   "name": "conda-env-cpp-xcpp11"
  },
  "language_info": {
   "codemirror_mode": "text/x-c++src",
   "file_extension": ".cpp",
   "mimetype": "text/x-c++src",
   "name": "c++",
   "version": "11"
  }
 },
 "nbformat": 4,
 "nbformat_minor": 4
}
