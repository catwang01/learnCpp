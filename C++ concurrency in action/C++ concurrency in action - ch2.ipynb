{
 "cells": [
  {
   "cell_type": "markdown",
   "metadata": {},
   "source": [
    "---\n",
    "title: C++ concurrency in action: ch2\n",
    "tags: 小书匠,thread,join,detach,Books-C++ concurrency in action,concurrency\n",
    "grammar_cjkRuby: true\n",
    "renderNumberedHeading: true\n",
    "---\n",
    "\n",
    "[toc]\n",
    "\n",
    "# C++ concurrency in action: ch2"
   ]
  },
  {
   "cell_type": "markdown",
   "metadata": {},
   "source": [
    "### Launching a thread"
   ]
  },
  {
   "cell_type": "markdown",
   "metadata": {},
   "source": [
    "#### Using an ordinary function to initialize"
   ]
  },
  {
   "cell_type": "code",
   "execution_count": 1,
   "metadata": {},
   "outputs": [],
   "source": [
    "#include<thread>\n",
    "\n",
    "void do_some_thing() {}"
   ]
  },
  {
   "cell_type": "code",
   "execution_count": 2,
   "metadata": {},
   "outputs": [],
   "source": [
    "void do_other_thing() {}"
   ]
  },
  {
   "cell_type": "code",
   "execution_count": 3,
   "metadata": {},
   "outputs": [],
   "source": [
    "std::thread my_thread(do_some_thing);"
   ]
  },
  {
   "cell_type": "markdown",
   "metadata": {},
   "source": [
    "#### Using a class with function call operator"
   ]
  },
  {
   "cell_type": "code",
   "execution_count": 4,
   "metadata": {},
   "outputs": [],
   "source": [
    "class background_task\n",
    "{\n",
    "    public:\n",
    "        void operator()() const {\n",
    "            do_some_thing();\n",
    "            do_other_thing();\n",
    "        }\n",
    "};\n",
    "\n",
    "background_task f;\n",
    "std::thread my_thread(f);"
   ]
  },
  {
   "cell_type": "code",
   "execution_count": 5,
   "metadata": {},
   "outputs": [
    {
     "name": "stderr",
     "output_type": "stream",
     "text": [
      "\u001b[1minput_line_12:2:23: \u001b[0m\u001b[0;1;35mwarning: \u001b[0m\u001b[1mparentheses were disambiguated as a function declaration [-Wvexing-parse]\u001b[0m\n",
      " std::thread my_thread(background_task());\n",
      "\u001b[0;1;32m                      ^~~~~~~~~~~~~~~~~~~\n",
      "\u001b[0m\u001b[1minput_line_12:2:24: \u001b[0m\u001b[0;1;30mnote: \u001b[0madd a pair of parentheses to declare a variable\u001b[0m\n",
      " std::thread my_thread(background_task());\n",
      "\u001b[0;1;32m                       ^\n",
      "\u001b[0m\u001b[0;32m                       (                )\n",
      "\u001b[0m"
     ]
    }
   ],
   "source": [
    "std::thread my_thread(background_task());"
   ]
  },
  {
   "cell_type": "code",
   "execution_count": 6,
   "metadata": {},
   "outputs": [],
   "source": [
    "std::thread my_thread((background_task()));"
   ]
  },
  {
   "cell_type": "code",
   "execution_count": 7,
   "metadata": {},
   "outputs": [],
   "source": [
    "std::thread my_thread { background_task()};"
   ]
  },
  {
   "cell_type": "markdown",
   "metadata": {},
   "source": [
    "#### Using a lambda function"
   ]
  },
  {
   "cell_type": "code",
   "execution_count": null,
   "metadata": {},
   "outputs": [],
   "source": [
    "std::thread my_thread([]{\n",
    "    do_some_thing();\n",
    "    do_other_thing();\n",
    "});"
   ]
  },
  {
   "cell_type": "markdown",
   "metadata": {},
   "source": [
    "### Waiting in excecptional circumstances"
   ]
  },
  {
   "cell_type": "markdown",
   "metadata": {},
   "source": [
    "Here is an example of how to wait in exceptional circumstances"
   ]
  },
  {
   "cell_type": "markdown",
   "metadata": {},
   "source": [
    "```cpp\n",
    "struct func;\n",
    "void f()\n",
    "{\n",
    "    std::thread t();\n",
    "    try\n",
    "    {\n",
    "        do_something_in_current_thread();\n",
    "    }\n",
    "    catch(...)\n",
    "    {\n",
    "        t.join();\n",
    "        throw;\n",
    "    }\n",
    "    t.join();\n",
    "}\n",
    "```"
   ]
  },
  {
   "cell_type": "markdown",
   "metadata": {},
   "source": [
    "It is quit verbose. A better way is to use RAII <!-- {#thread_guard} -->"
   ]
  },
  {
   "cell_type": "markdown",
   "metadata": {},
   "source": [
    "```cpp\n",
    "class thread_guard\n",
    "{\n",
    "    std::thread t;\n",
    "    public:\n",
    "        explicit thread_guard(std::thread& t_): t(t_) {}\n",
    "        ~thread_guard()\n",
    "        {\n",
    "            if (t.joinable())\n",
    "                t.join();\n",
    "        }\n",
    "    thread_guard(const thread_guard&) = delete;\n",
    "    thread_guard& operator=(const thread_guard&) = delete;\n",
    "};\n",
    "\n",
    "struct func;\n",
    "void f()\n",
    "{\n",
    "    std::thread t;\n",
    "    thread_guard(t);\n",
    "    do_something_in_current_thread();\n",
    "}\n",
    "```"
   ]
  },
  {
   "cell_type": "markdown",
   "metadata": {},
   "source": [
    "## Passing arguments to a thread function"
   ]
  },
  {
   "cell_type": "code",
   "execution_count": 15,
   "metadata": {},
   "outputs": [
    {
     "name": "stdout",
     "output_type": "stream",
     "text": [
      "hello\n"
     ]
    }
   ],
   "source": [
    "#include <string>\n",
    "#include <iostream>\n",
    "#include <thread>\n",
    "\n",
    "void f(const std::string& s) { std::cout << s << \"\\n\";}\n",
    "int main()\n",
    "{\n",
    "    std::thread t(f, \"hello\"); // ok\n",
    "    t.join();\n",
    "}\n"
   ]
  },
  {
   "cell_type": "markdown",
   "metadata": {},
   "source": [
    "### Using function with non-const reference"
   ]
  },
  {
   "cell_type": "markdown",
   "metadata": {},
   "source": [
    "In the internal of thread, it will call the passed function using rvalues, thus may not corporate with non-const reference. "
   ]
  },
  {
   "cell_type": "code",
   "execution_count": 52,
   "metadata": {},
   "outputs": [
    {
     "name": "stdout",
     "output_type": "stream",
     "text": [
      "Overwriting test.cpp\n"
     ]
    }
   ],
   "source": [
    "%%file test.cpp\n",
    "#include <string>\n",
    "#include <iostream>\n",
    "#include <thread>\n",
    "\n",
    "void f(std::string& s) { std::cout << s << \"\\n\";} // f expects non-const reference\n",
    "int main()\n",
    "{\n",
    "    std::string s(\"hello world\");\n",
    "    std::thread t(f, s); // s is lvalue\n",
    "    t.join();\n",
    "}"
   ]
  },
  {
   "cell_type": "code",
   "execution_count": 50,
   "metadata": {},
   "outputs": [
    {
     "name": "stdout",
     "output_type": "stream",
     "text": [
      "In file included from test.cpp:3:\n",
      "/Library/Developer/CommandLineTools/usr/include/c++/v1/thread:342:5: error: attempt to use a deleted function\n",
      "    __invoke(_VSTD::move(_VSTD::get<1>(__t)), _VSTD::move(_VSTD::get<_Indices>(__t))...);\n",
      "    ^\n",
      "/Library/Developer/CommandLineTools/usr/include/c++/v1/thread:352:5: note: in instantiation of function template specialization 'std::__1::__thread_execute<std::__1::unique_ptr<std::__1::__thread_struct, std::__1::default_delete<std::__1::__thread_struct> >, void (*)(std::__1::basic_string<char> &), std::__1::basic_string<char> , 2>' requested here\n",
      "    __thread_execute(*__p, _Index());\n",
      "    ^\n",
      "/Library/Developer/CommandLineTools/usr/include/c++/v1/thread:368:47: note: in instantiation of function template specialization 'std::__1::__thread_proxy<std::__1::tuple<std::__1::unique_ptr<std::__1::__thread_struct, std::__1::default_delete<std::__1::__thread_struct> >, void (*)(std::__1::basic_string<char> &), std::__1::basic_string<char> > >' requested here\n",
      "    int __ec = __libcpp_thread_create(&__t_, &__thread_proxy<_Gp>, __p.get());\n",
      "                                              ^\n",
      "test.cpp:9:17: note: in instantiation of function template specialization 'std::__1::thread::thread<void (&)(std::__1::basic_string<char> &), std::__1::basic_string<char> &, void>' requested here\n",
      "    std::thread t(f, s); // s is lvalue\n",
      "                ^\n",
      "/Library/Developer/CommandLineTools/usr/include/c++/v1/type_traits:1664:5: note: '~__nat' has been explicitly marked deleted here\n",
      "    ~__nat() = delete;\n",
      "    ^\n",
      "1 error generated.\n"
     ]
    }
   ],
   "source": [
    "!g++ test.cpp -o test -std=c++11"
   ]
  },
  {
   "cell_type": "markdown",
   "metadata": {},
   "source": [
    "If f expects const reference, their will be no error"
   ]
  },
  {
   "cell_type": "code",
   "execution_count": 53,
   "metadata": {},
   "outputs": [
    {
     "name": "stdout",
     "output_type": "stream",
     "text": [
      "Overwriting test.cpp\n"
     ]
    }
   ],
   "source": [
    "%%file test.cpp\n",
    "#include <string>\n",
    "#include <iostream>\n",
    "#include <thread>\n",
    "\n",
    "void f(const std::string& s) { std::cout << s << \"\\n\";}\n",
    "int main()\n",
    "{\n",
    "    std::string s(\"hello world\");\n",
    "    std::thread t(f, s);\n",
    "    t.join();\n",
    "}"
   ]
  },
  {
   "cell_type": "code",
   "execution_count": 54,
   "metadata": {},
   "outputs": [
    {
     "name": "stdout",
     "output_type": "stream",
     "text": [
      "hello world\n"
     ]
    }
   ],
   "source": [
    "!g++ test.cpp -o test -std=c++11 && ./test"
   ]
  },
  {
   "cell_type": "markdown",
   "metadata": {},
   "source": [
    "A workaround is to use std::ref"
   ]
  },
  {
   "cell_type": "code",
   "execution_count": 55,
   "metadata": {},
   "outputs": [
    {
     "name": "stdout",
     "output_type": "stream",
     "text": [
      "Overwriting test.cpp\n"
     ]
    }
   ],
   "source": [
    "%%file test.cpp\n",
    "#include <string>\n",
    "#include <iostream>\n",
    "#include <thread>\n",
    "\n",
    "void f(std::string& s) { std::cout << s << \"\\n\";} // f expects non-const reference\n",
    "int main()\n",
    "{\n",
    "    std::string s(\"hello world\");\n",
    "    std::thread t(f, std::ref(s)); // s is lvalue\n",
    "    t.join();\n",
    "}"
   ]
  },
  {
   "cell_type": "code",
   "execution_count": 56,
   "metadata": {},
   "outputs": [
    {
     "name": "stdout",
     "output_type": "stream",
     "text": [
      "hello world\n"
     ]
    }
   ],
   "source": [
    "!g++ test.cpp -o test -std=c++11 && ./test"
   ]
  },
  {
   "cell_type": "markdown",
   "metadata": {},
   "source": [
    "## Transferring ownership of a thread"
   ]
  },
  {
   "cell_type": "markdown",
   "metadata": {},
   "source": [
    "`std::thread` is movable but not copyable, thus it can not be copied. However, we can transferring ownership of a thread of execution among std::thread.\n"
   ]
  },
  {
   "cell_type": "markdown",
   "metadata": {},
   "source": [
    "### transferring ownership into function and out of function\n",
    "\n",
    "The move support in std::thread means that ownership can readily be transferred out of a function by returning a std::thread, and can also be transferred into a function by passing arguments by std::thread."
   ]
  },
  {
   "cell_type": "markdown",
   "metadata": {},
   "source": [
    "Here are examples of transferring ownership out of function."
   ]
  },
  {
   "cell_type": "markdown",
   "metadata": {},
   "source": [
    "```cpp\n",
    "std::thread f()\n",
    "{\n",
    "    void some_function();\n",
    "    return std::thread(some_function); // move constructor\n",
    "}\n",
    "\n",
    "std::thread g()\n",
    "{\n",
    "    void some_other_function();\n",
    "    std::thread t(some_function);\n",
    "    return t; // move constructor\n",
    "}\n",
    "```"
   ]
  },
  {
   "cell_type": "markdown",
   "metadata": {},
   "source": [
    "Here are examples of transferring ownership into function."
   ]
  },
  {
   "cell_type": "markdown",
   "metadata": {},
   "source": [
    "```cpp\n",
    "void f(std::thread t);\n",
    "void g()\n",
    "{\n",
    "    void some_function();\n",
    "    f(std::thread()); // move constructor\n",
    "    std::thread t(some_function);\n",
    "    f(std::move(t)); // move constructor\n",
    "}\n",
    "```"
   ]
  },
  {
   "cell_type": "markdown",
   "metadata": {},
   "source": [
    "### Scoped thread using move"
   ]
  },
  {
   "cell_type": "code",
   "execution_count": 74,
   "metadata": {},
   "outputs": [
    {
     "name": "stdout",
     "output_type": "stream",
     "text": [
      "Overwriting test.cpp\n"
     ]
    }
   ],
   "source": [
    "%%file test.cpp\n",
    "#include <iostream>\n",
    "#include <thread>\n",
    "#include <algorithm>\n",
    "\n",
    "struct func\n",
    "{\n",
    "    int& i;\n",
    "    func(int& i_): i(i_) { }\n",
    "    void operator()() const\n",
    "    {\n",
    "            std::cout << \"i = \" << i << std::endl;\n",
    "    }\n",
    "};\n",
    "\n",
    "class scoped_thread\n",
    "{\n",
    "    std::thread t;\n",
    "    public:\n",
    "        explicit scoped_thread(std::thread t_): t(std::move(t_))\n",
    "        {\n",
    "            if (!t.joinable()) throw std::logic_error(\"No thread\");\n",
    "        }\n",
    "        ~scoped_thread(){ t.join(); }\n",
    "        scoped_thread(const scoped_thread& ) = delete;\n",
    "        scoped_thread& operator=(const scoped_thread&) = delete;\n",
    "};\n",
    "\n",
    "void do_something_in_current_thread()\n",
    "{\n",
    "    std::cout << \"do_something_in_current_thread\" << std::endl;\n",
    "}\n",
    "\n",
    "int main()\n",
    "{\n",
    "    int some_local_state = 3;\n",
    "    scoped_thread t {std::thread(func(some_local_state))};\n",
    "    do_something_in_current_thread();\n",
    "    return 0;\n",
    "}"
   ]
  },
  {
   "cell_type": "code",
   "execution_count": 75,
   "metadata": {},
   "outputs": [
    {
     "name": "stdout",
     "output_type": "stream",
     "text": [
      "do_something_in_current_thread\n",
      "i = 3\n"
     ]
    }
   ],
   "source": [
    "!g++ -std=c++11 test.cpp -o test && ./test"
   ]
  },
  {
   "cell_type": "markdown",
   "metadata": {},
   "source": [
    "Note that `scoped_thread` here is different from [thread_guard](#thread_guard) in the following aspects\n",
    "\n",
    "1. scoped_thread's constructor expects a `std::thread` as an argument, while `thread_guard` expects `std::thread&` as an argument. Because std::thread supports move, using a `std::thread` as a parameter may invoke move instead of copy.\n",
    "Thus, scoped_thread will take over the ownership of the passed `std::thread` and no objects else could manipulate the thread. While `thread_guard` merely references a thread object, there will be other objects manipulating the thread.\n",
    "\n",
    "2. `scoped_thread` checks whether t is joinable in the constructor instead of the destructor, while `thread_guard` is the opposite.\n",
    "\n",
    "Because `scoped_thread` takes the ownership of `std::thread`, once the joinability of the thread is guaranteed, there is no need to be checked again.\n",
    "\n",
    "Whereas `thread_guard` does not need to check `t.joinable()` in the constructor but does in the destructor, because there may be other objects join or detach the thread. It cannot ensure the joinability of the thread, thus the joinability should be checked every time before joining."
   ]
  },
  {
   "cell_type": "markdown",
   "metadata": {},
   "source": [
    "### Using move-aware container with std::thread"
   ]
  },
  {
   "cell_type": "code",
   "execution_count": null,
   "metadata": {},
   "outputs": [],
   "source": []
  },
  {
   "cell_type": "code",
   "execution_count": 87,
   "metadata": {},
   "outputs": [
    {
     "name": "stdout",
     "output_type": "stream",
     "text": [
      "Overwriting test.cpp\n"
     ]
    }
   ],
   "source": [
    "%%file test.cpp\n",
    "#include <iostream>\n",
    "#include <thread>\n",
    "#include <vector>\n",
    "\n",
    "void do_work(int i)\n",
    "{\n",
    "        std::cout << i << \": hello world\" << std::endl;\n",
    "}\n",
    "\n",
    "int main()\n",
    "{\n",
    "    std::vector<std::thread> threads;\n",
    "    for(unsigned i=0; i<5; ++i)\n",
    "    {\n",
    "        threads.emplace_back(do_work, i); // spawns threads\n",
    "    }\n",
    "    for (auto& entry: threads)\n",
    "        entry.join(); // join\n",
    "    return 0;\n",
    "}"
   ]
  },
  {
   "cell_type": "code",
   "execution_count": 88,
   "metadata": {},
   "outputs": [
    {
     "name": "stdout",
     "output_type": "stream",
     "text": [
      "0: hello world\n",
      "3: hello world\n",
      "2: hello world\n",
      "41: hello world: hello world\n",
      "\n"
     ]
    }
   ],
   "source": [
    "!g++ test.cpp -o test -std=c++11 && ./test"
   ]
  },
  {
   "cell_type": "markdown",
   "metadata": {},
   "source": [
    "# Reference"
   ]
  },
  {
   "cell_type": "code",
   "execution_count": null,
   "metadata": {},
   "outputs": [],
   "source": []
  }
 ],
 "metadata": {
  "kernelspec": {
   "display_name": "C++11 [conda env:cpp]",
   "language": "C++11",
   "name": "conda-env-cpp-xcpp11"
  },
  "language_info": {
   "codemirror_mode": "text/x-c++src",
   "file_extension": ".cpp",
   "mimetype": "text/x-c++src",
   "name": "c++",
   "version": "11"
  }
 },
 "nbformat": 4,
 "nbformat_minor": 4
}
