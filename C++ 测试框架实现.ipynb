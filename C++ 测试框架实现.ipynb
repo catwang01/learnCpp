{
 "cells": [
  {
   "cell_type": "markdown",
   "metadata": {},
   "source": [
    "---\n",
    "title: C++ 简单测试框架\n",
    "tags: 小书匠,c++,test,gtest,胡船长,define,macro,attribute,constructor\n",
    "grammar_cjkRuby: true\n",
    "renderNumberedHeading: true\n",
    "---\n",
    "\n",
    "[toc]\n",
    "\n",
    "# C++ 简单测试框架"
   ]
  },
  {
   "cell_type": "markdown",
   "metadata": {},
   "source": [
    "## 使用宏来定义函数"
   ]
  },
  {
   "cell_type": "markdown",
   "metadata": {},
   "source": [
    "里面有许多 trick\n",
    "\n",
    "1. args... 表示可变参数\n",
    "2. ##args\n",
    "3. a##b 表示拼接符号"
   ]
  },
  {
   "cell_type": "code",
   "execution_count": 1,
   "metadata": {},
   "outputs": [
    {
     "name": "stdout",
     "output_type": "stream",
     "text": [
      "Overwriting test.cpp\n"
     ]
    }
   ],
   "source": [
    "%%file test.cpp\n",
    "\n",
    "#include <iostream>\n",
    "#define LOG(frm, args...) \\\n",
    "{ \\\n",
    "    printf(\"[%s : %d : %s] \", __FILE__, __LINE__, __func__); \\\n",
    "    printf(frm, ##args); \\\n",
    "    printf(\"\\n\"); \\\n",
    "} \\\n",
    "// ## 用于将两个符号拼接起来\n",
    "#define Cate(a, b) a##b\n",
    "\n",
    "int main()\n",
    "{\n",
    "    int a = 0;\n",
    "    int abc = 123;\n",
    "    LOG(\"hello \");\n",
    "    LOG(\"hello %d\", Cate(a, bc)); // 显示的是 123，因为 a 和 bc 拼接起来变成了 abc\n",
    "    return 0;\n",
    "}"
   ]
  },
  {
   "cell_type": "code",
   "execution_count": 2,
   "metadata": {},
   "outputs": [
    {
     "name": "stdout",
     "output_type": "stream",
     "text": [
      "[test.cpp : 16 : main] hello \n",
      "[test.cpp : 17 : main] hello 123\n"
     ]
    }
   ],
   "source": [
    "!g++ test.cpp -o test && ./test"
   ]
  },
  {
   "cell_type": "markdown",
   "metadata": {},
   "source": [
    "注意，代码中使用的 bc 是没有定义的，但是也不会报错。因为预处理阶段 bc 就被宏替换掉了。而预处理阶段不进行语法检查，编译阶段才检查。我么可以使用 `-E` 参数查看预处理后的待编译源码"
   ]
  },
  {
   "cell_type": "code",
   "execution_count": 3,
   "metadata": {},
   "outputs": [],
   "source": [
    "!g++ test.cpp -E > test.i # 将其写入 test.i 文件中"
   ]
  },
  {
   "cell_type": "code",
   "execution_count": 4,
   "metadata": {},
   "outputs": [
    {
     "name": "stdout",
     "output_type": "stream",
     "text": [
      "extern __attribute__ ((__visibility__(\"default\"))) wostream wcout;\n",
      "\n",
      "extern __attribute__ ((__visibility__(\"default\"))) ostream cerr;\n",
      "extern __attribute__ ((__visibility__(\"default\"))) wostream wcerr;\n",
      "extern __attribute__ ((__visibility__(\"default\"))) ostream clog;\n",
      "extern __attribute__ ((__visibility__(\"default\"))) wostream wclog;\n",
      "\n",
      "} }\n",
      "# 3 \"test.cpp\" 2\n",
      "# 12 \"test.cpp\"\n",
      "int main()\n",
      "{\n",
      "    int a = 0;\n",
      "    int abc = 123;\n",
      "    { printf(\"[%s : %d : %s] \", \"test.cpp\", 16, __func__); printf(\"hello \"); printf(\"\\n\"); };\n",
      "    { printf(\"[%s : %d : %s] \", \"test.cpp\", 17, __func__); printf(\"hello %d\", abc); printf(\"\\n\"); };\n",
      "    return 0;\n",
      "}\n"
     ]
    }
   ],
   "source": [
    "!cat test.i | grep \"main()\" -A 10 -B 10 # 查看 main 函数的内容"
   ]
  },
  {
   "cell_type": "markdown",
   "metadata": {},
   "source": [
    "可以看到，宏的位置已经被替换掉了。"
   ]
  },
  {
   "cell_type": "markdown",
   "metadata": {},
   "source": [
    "## 完整实现"
   ]
  },
  {
   "cell_type": "markdown",
   "metadata": {},
   "source": [
    "希望 `RUN_ALL_TESTS()` 函数运行后，所有的测试用例都会运行。因此我们可以用某个函数数组来保存所有的函数，然后 `RUN_ALL_TESTS` 的作用就是遍历这个函数数组。"
   ]
  },
  {
   "cell_type": "markdown",
   "metadata": {},
   "source": [
    "### 封装颜色"
   ]
  },
  {
   "cell_type": "code",
   "execution_count": 5,
   "metadata": {},
   "outputs": [
    {
     "name": "stdout",
     "output_type": "stream",
     "text": [
      "\u001b[0;32;32mhello\u001b[m\u001b[0;32;31m world\u001b[m"
     ]
    },
    {
     "data": {
      "text/plain": [
       "19"
      ]
     },
     "execution_count": 5,
     "metadata": {},
     "output_type": "execute_result"
    }
   ],
   "source": [
    "#define GEN(msg) \"\\033[0;32;32m\" msg \"\\033[m\"\n",
    "#define RED(msg) \"\\033[0;32;31m\" msg \"\\033[m\"\n",
    "\n",
    "printf(GEN(\"hello\"));\n",
    "printf(RED(\" world\"))"
   ]
  },
  {
   "cell_type": "code",
   "execution_count": 6,
   "metadata": {},
   "outputs": [
    {
     "name": "stdout",
     "output_type": "stream",
     "text": [
      "\u001b[0;32;31mEXPECT: 1 == 2\n",
      "\u001b[m\u001b[0;32;31mEXPECT: 1 > 2\n",
      "\u001b[m"
     ]
    }
   ],
   "source": [
    "#define EXPECT(a, cmp, b) {  \\\n",
    "    if(!(a cmp b)) { \\\n",
    "        printf(RED(\"EXPECT: \" #a \" \" #cmp \" \" #b \"\\n\")); \\\n",
    "    } \\\n",
    "}\n",
    "\n",
    "#define EXPECT_EQ(a, b) EXPECT(a, ==, b)\n",
    "#define EXPECT_LT(a, b) EXPECT(a, <,  b)\n",
    "#define EXPECT_GT(a, b) EXPECT(a, >, b)\n",
    "#define EXPECT_NE(a, b) EXPECT(a, !=, b)\n",
    "\n",
    "EXPECT_EQ(1, 1);\n",
    "EXPECT_EQ(1, 2);\n",
    "EXPECT_GT(1, 2);\n",
    "EXPECT_NE(1, 2);"
   ]
  },
  {
   "cell_type": "code",
   "execution_count": 2,
   "metadata": {},
   "outputs": [
    {
     "name": "stderr",
     "output_type": "stream",
     "text": [
      "\u001b[1minput_line_8:8:1: \u001b[0m\u001b[0;1;31merror: \u001b[0m\u001b[1mfunction definition is not allowed here\u001b[0m\n",
      "{\n",
      "\u001b[0;1;32m^\n",
      "\u001b[0m"
     ]
    },
    {
     "ename": "Interpreter Error",
     "evalue": "",
     "output_type": "error",
     "traceback": [
      "Interpreter Error: "
     ]
    }
   ],
   "source": [
    "struct {\n",
    "    void (*func)();\n",
    "    const char* name;\n",
    "} func_array[1000];\n",
    "int n_func = 0;\n",
    "\n",
    "void RUN_ALL_TESTS()\n",
    "{\n",
    "    for(int i=0; i<n_func; i++)\n",
    "    {\n",
    "        printf(GEN(\"[ RUN %s ]\"), func_array[i].name);\n",
    "        func_array[i].func();\n",
    "    }\n",
    "}"
   ]
  },
  {
   "cell_type": "markdown",
   "metadata": {},
   "source": [
    "那么问题变成了，那个函数填充了这个数组？在什么时候填充的？\n",
    "\n",
    "我们希望 TEST 函数被调用的时候填充数组。"
   ]
  },
  {
   "cell_type": "markdown",
   "metadata": {},
   "source": [
    "1. TEST 是一个宏。它会创建一个 test_xx 函数\n",
    "2. TEST 需要把 test_xx 函数添加到 `func_array` 中，这个过程应该是在 main 函数之前完成的，因此需要用到 `__attribute__((constructor)`"
   ]
  },
  {
   "cell_type": "code",
   "execution_count": 10,
   "metadata": {},
   "outputs": [
    {
     "name": "stderr",
     "output_type": "stream",
     "text": [
      "\u001b[1minput_line_15:10:5: \u001b[0m\u001b[0;1;31merror: \u001b[0m\u001b[1muse of undeclared identifier 'func_array'\u001b[0m\n",
      "    func_array[n_func] = {pt, name};\n",
      "\u001b[0;1;32m    ^\n",
      "\u001b[0m\u001b[1minput_line_15:10:16: \u001b[0m\u001b[0;1;31merror: \u001b[0m\u001b[1muse of undeclared identifier 'n_func'\u001b[0m\n",
      "    func_array[n_func] = {pt, name};\n",
      "\u001b[0;1;32m               ^\n",
      "\u001b[0m\u001b[1minput_line_15:11:5: \u001b[0m\u001b[0;1;31merror: \u001b[0m\u001b[1muse of undeclared identifier 'n_func'\u001b[0m\n",
      "    n_func++;\n",
      "\u001b[0;1;32m    ^\n",
      "\u001b[0m"
     ]
    },
    {
     "ename": "Interpreter Error",
     "evalue": "",
     "output_type": "error",
     "traceback": [
      "Interpreter Error: "
     ]
    }
   ],
   "source": [
    "#define TEST(func) \\\n",
    "void  \\\n",
    "__attribute__((constructor)) \\\n",
    "register_test_##func() \\\n",
    "{ \\\n",
    "    add_func(func, #func); \\\n",
    "} \\\n",
    "void test_##func()\n",
    "\n",
    "void add_func(void (*pt)(), const char* name) {\n",
    "    func_array[n_func] = {pt, name};\n",
    "    n_func++;\n",
    "}"
   ]
  },
  {
   "cell_type": "code",
   "execution_count": 3,
   "metadata": {},
   "outputs": [
    {
     "name": "stdout",
     "output_type": "stream",
     "text": [
      "Overwriting test.h\n"
     ]
    }
   ],
   "source": [
    "%%file test.h\n",
    "\n",
    "#ifndef TEST_H\n",
    "#define TEST_H\n",
    "#include <iostream>\n",
    "\n",
    "#define GEN(msg) \"\\033[0;32;32m\" msg \"\\033[m\"\n",
    "#define RED(msg) \"\\033[0;32;31m\" msg \"\\033[m\"\n",
    "\n",
    "#define EXPECT(a, cmp, b) {  \\\n",
    "    __typeof(a) _a = (a), _b = (b); \\\n",
    "    if(!((_a) cmp (_b))) { \\\n",
    "        printf(RED(\"EXPECT: %s %s %s. ACTUAL: %d %s %d\\n\"), #a, #cmp, #b, _a, #cmp, _b); \\\n",
    "    } \\\n",
    "} \n",
    "\n",
    "#define EXPECT_EQ(a, b) EXPECT(a, ==, b)\n",
    "#define EXPECT_LT(a, b) EXPECT(a, <,  b)\n",
    "#define EXPECT_GT(a, b) EXPECT(a, >, b)\n",
    "#define EXPECT_NE(a, b) EXPECT(a, !=, b)\n",
    "\n",
    "struct {\n",
    "    void (*func)();\n",
    "    const char* name;\n",
    "} func_array[1000];\n",
    "int n_func = 0;\n",
    "\n",
    "void RUN_ALL_TESTS()\n",
    "{\n",
    "    for(int i=0; i<n_func; i++)\n",
    "    {\n",
    "        printf(GEN(\"[ RUN %s ]\\n\"), func_array[i].name);\n",
    "        func_array[i].func();\n",
    "    }\n",
    "}\n",
    "\n",
    "#define TEST(func) \\\n",
    "void test_##func(); \\\n",
    "void  \\\n",
    "__attribute__((constructor)) \\\n",
    "register_test_##func() \\\n",
    "{ \\\n",
    "    add_func(test_##func, #func); \\\n",
    "}; \\\n",
    "void test_##func()\n",
    "\n",
    "void add_func(void (*func)(), const char* name) {\n",
    "    func_array[n_func].func = func;\n",
    "    func_array[n_func].name = name;\n",
    "    n_func++;\n",
    "}\n",
    "#endif"
   ]
  },
  {
   "cell_type": "code",
   "execution_count": 4,
   "metadata": {},
   "outputs": [
    {
     "name": "stdout",
     "output_type": "stream",
     "text": [
      "Overwriting test.cpp\n"
     ]
    }
   ],
   "source": [
    "%%file test.cpp\n",
    "\n",
    "#include <iostream>\n",
    "#include \"test.h\"\n",
    "\n",
    "int add(int a, int b) {\n",
    "    return a + b;\n",
    "}\n",
    "\n",
    "TEST(add1) \n",
    "{\n",
    "    EXPECT_EQ(add(0,1), 2);\n",
    "    EXPECT_GT(add(0,1), 0);\n",
    "    EXPECT_LT(add(0,1), 2);\n",
    "    EXPECT_NE(add(0,1), 1);\n",
    "}\n",
    "\n",
    "TEST(add2) \n",
    "{\n",
    "    EXPECT_EQ(add(0,1), 1);\n",
    "    EXPECT_GT(add(0,1), 0);\n",
    "    EXPECT_LT(add(0,1), 2);\n",
    "    EXPECT_NE(add(0,1), 2);\n",
    "}\n",
    "\n",
    "int main()\n",
    "{\n",
    "    printf(\"run test!\\n\");\n",
    "    RUN_ALL_TESTS();\n",
    "    return 0;\n",
    "}"
   ]
  },
  {
   "cell_type": "code",
   "execution_count": 5,
   "metadata": {},
   "outputs": [
    {
     "name": "stdout",
     "output_type": "stream",
     "text": [
      "clang: warning: treating 'c-header' input as 'c++-header' when in C++ mode, this behavior is deprecated [-Wdeprecated]\n"
     ]
    }
   ],
   "source": [
    "!g++ test.cpp test.h"
   ]
  },
  {
   "cell_type": "code",
   "execution_count": 6,
   "metadata": {},
   "outputs": [
    {
     "name": "stdout",
     "output_type": "stream",
     "text": [
      "run test!\n",
      "\u001b[0;32;32m[ RUN add1 ]\n",
      "\u001b[m\u001b[0;32;31mEXPECT: add(0,1) == 2. ACTUAL: 1 == 2\n",
      "\u001b[m\u001b[0;32;31mEXPECT: add(0,1) != 1. ACTUAL: 1 != 1\n",
      "\u001b[m\u001b[0;32;32m[ RUN add2 ]\n",
      "\u001b[m"
     ]
    }
   ],
   "source": [
    "!./a.out"
   ]
  },
  {
   "cell_type": "markdown",
   "metadata": {},
   "source": [
    "# References\n",
    "\n",
    "- [C++船长免费课程 Google测试框架实现_zw1996的博客-CSDN博客_船长c++](https://blog.csdn.net/zw1996/article/details/109519628)"
   ]
  }
 ],
 "metadata": {
  "kernelspec": {
   "display_name": "C++11 [conda env:cpp]",
   "language": "C++11",
   "name": "conda-env-cpp-xcpp11"
  },
  "language_info": {
   "codemirror_mode": "text/x-c++src",
   "file_extension": ".cpp",
   "mimetype": "text/x-c++src",
   "name": "c++",
   "version": "11"
  }
 },
 "nbformat": 4,
 "nbformat_minor": 4
}
