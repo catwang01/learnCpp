{
 "cells": [
  {
   "cell_type": "markdown",
   "id": "a030e4fa-7966-46f9-9c7d-3d000e23ccd2",
   "metadata": {},
   "source": [
    "---\n",
    "title: 极客时间-现代C++30讲  01丨堆、栈、RAII：C++里该如何管理资源？\n",
    "tags: 小书匠,C++,极客时间-现代C++30讲,raii,heap,free store,new,malloc,delete,free\n",
    "grammar_cjkRuby: true\n",
    "---\n",
    "\n",
    "[toc]\n",
    "\n",
    "# 01丨堆、栈、RAII：C++里该如何管理资源？"
   ]
  },
  {
   "cell_type": "markdown",
   "id": "b5e98db4-3bd9-468f-b955-3905d878a609",
   "metadata": {},
   "source": [
    "## Two ways to manage objects: Heap and Stack"
   ]
  },
  {
   "cell_type": "markdown",
   "id": "d6a3ad81-443a-439f-a591-abb7d68dfd25",
   "metadata": {},
   "source": [
    "C++ provides two ways to manage objects: heap and stack."
   ]
  },
  {
   "cell_type": "markdown",
   "id": "7a7a7a23-4273-46c6-abe3-d169831fdaca",
   "metadata": {},
   "source": [
    "### Stack"
   ]
  },
  {
   "cell_type": "markdown",
   "id": "6b9dfa91-2e08-4b29-a3fa-5aa26f62db04",
   "metadata": {},
   "source": [
    "The terminology `stack` in C++ memory management is kind of similar to this terminology in data structures, which holds a feature of FILO(first in last out).\n",
    "\n",
    "The objects constructed on stack will be destructed when it is out of scope of its lifetime. The most important thing is that this behavior still happens even an error is thrown during the execution of the function. The behavior is named `stack unwinding`.\n",
    "\n",
    "Thanks to stack unwinding, stack may be the most natural way to manage memory in C++."
   ]
  },
  {
   "cell_type": "markdown",
   "id": "1cc77bc3-28d5-49de-bceb-72b402b5f195",
   "metadata": {},
   "source": [
    "## Heap and free store"
   ]
  },
  {
   "cell_type": "markdown",
   "id": "69ec1fa0-5d2e-407b-8077-eec95156fe94",
   "metadata": {},
   "source": [
    "Heap is totally different from the heap in data structure, indicating the memory allocated dynamically. In C/C++, `malloc` is used to create a memory space on heap. \n",
    "\n",
    "Unfortunately, C/C++ doesn't provide automatic memory recycling mechanism, we need to free the allocated space using `free`.\n",
    "\n",
    "Another similar concept is `free store`, specifying the memory on heap allocated managed using `new` and `delete`. Because `new` and `delete` are implemented using `malloc` and `free`, thus `free store` is a special kind of `heap`. Here we do not differentiate them and call both `heap`.\n",
    "\n",
    "- free store: managed using `new` and `delete`\n",
    "- heap: managed using `malloc` and `free`"
   ]
  },
  {
   "cell_type": "markdown",
   "id": "829a3b9d-12e5-446e-80d5-ff8bfafe5d79",
   "metadata": {},
   "source": [
    "### Why we need heap"
   ]
  },
  {
   "cell_type": "markdown",
   "id": "b9e9b62c-311b-4931-a36e-6675851870dd",
   "metadata": {},
   "source": [
    "Although constructing objects on stack dispenses a lot of works of deleting a dynamically allocated memory when it is no more needed, sometimes we have no choice but to create objects on heap. For examples,\n",
    "1. Objects are big. The stack memory is limited, so big objects should not be allocated on stack.\n",
    "2. The size of objects is uncertain during compiling.\n",
    "3. The objects are returned by a function but can't be returned by value for some reason.\n",
    "\n",
    "In those situations, creating objects on stack is not recommended or even impossible. Thus, we still need object construction on heap."
   ]
  },
  {
   "cell_type": "markdown",
   "id": "582a6de8-a15b-48cc-8195-b0d3859270e8",
   "metadata": {},
   "source": [
    "## The dillma of managing objects on heap"
   ]
  },
  {
   "cell_type": "markdown",
   "id": "8c5d3d7e-3577-4350-8a4e-c62391b0fd37",
   "metadata": {},
   "source": [
    "Just calling `delete` to free the space on heap seems not a big problem. However, things are not seemingly simple. \n",
    "\n",
    "### Dead delete because of exceptions\n",
    "\n",
    "See the following piece of code"
   ]
  },
  {
   "cell_type": "markdown",
   "id": "4d76e9d7-02bf-472f-b051-6f627a790de3",
   "metadata": {},
   "source": [
    "```cpp\n",
    "void foo()\n",
    "{\n",
    "    obj* ptr = new Shape();\n",
    "    ...\n",
    "    delete ptr;\n",
    "}\n",
    "```"
   ]
  },
  {
   "cell_type": "markdown",
   "id": "acca14e4-9e4f-4d7e-9d46-fc68479f7fbc",
   "metadata": {},
   "source": [
    "The problem here is that, `delete` may not be called if there is an error thrown before it."
   ]
  },
  {
   "cell_type": "markdown",
   "id": "9eca81ef-c4cf-410e-8c3f-5a91e456f055",
   "metadata": {},
   "source": [
    "### Easy to forget to delete in complicated function calling"
   ]
  },
  {
   "cell_type": "markdown",
   "id": "2b5fb135-d4da-4e4e-ba2b-eab68be40096",
   "metadata": {},
   "source": [
    "## RAII -- C++-style of memory management"
   ]
  },
  {
   "cell_type": "markdown",
   "id": "1202ced0-f846-4652-b74f-98c14aef3397",
   "metadata": {},
   "source": [
    "RAII(Resource Acquisition Is Initialization) is a C++-style of memory management, which utilize the stack unwinding to release resources."
   ]
  },
  {
   "cell_type": "markdown",
   "id": "3d8e28b1-dece-4451-92ec-ae236214ac86",
   "metadata": {},
   "source": [
    "### An example of RAII"
   ]
  },
  {
   "cell_type": "code",
   "execution_count": 25,
   "id": "1a27bb41-88ce-4dbd-be37-41d8bf8103f2",
   "metadata": {},
   "outputs": [
    {
     "name": "stdout",
     "output_type": "stream",
     "text": [
      "Overwriting test.cpp\n"
     ]
    }
   ],
   "source": [
    "%%file test.cpp\n",
    "#include <iostream>\n",
    "\n",
    "enum class shape_type {\n",
    "    circle,\n",
    "    triangle,\n",
    "    rectangle\n",
    "};\n",
    "\n",
    "class shape { \n",
    "    public:\n",
    "        virtual void print() const = 0;\n",
    "};\n",
    "\n",
    "class circle: public shape { \n",
    "    void print() const override final\n",
    "    {\n",
    "        std::cout << \"circle\\n\";\n",
    "    }\n",
    "};\n",
    "\n",
    "class triangle: public shape { \n",
    "    void print() const override final\n",
    "    {\n",
    "        std::cout << \"triangle\\n\";\n",
    "    }\n",
    "};\n",
    "\n",
    "class rectangle: public shape { \n",
    "    void print() const override final\n",
    "    {\n",
    "        std::cout << \"rectangle\\n\";\n",
    "    }\n",
    "};\n",
    "\n",
    "shape* create_shape(shape_type type)\n",
    "{\n",
    "    shape* ptr = NULL;\n",
    "    switch(type)\n",
    "    {\n",
    "        case shape_type::circle:\n",
    "            ptr = new circle();\n",
    "            break;\n",
    "        case shape_type::triangle:\n",
    "            ptr = new triangle();\n",
    "            break;\n",
    "        case shape_type::rectangle:\n",
    "            ptr = new rectangle();\n",
    "            break;\n",
    "        default:\n",
    "            throw \"No such shape\";\n",
    "    }\n",
    "    return ptr;\n",
    "}   \n",
    "\n",
    "class shape_wrapper\n",
    "{\n",
    "    public:\n",
    "        shape_wrapper(shape* shape_ptr=NULL): shape_ptr_(shape_ptr) {}\n",
    "        ~shape_wrapper() // release resources\n",
    "        {\n",
    "            delete shape_ptr_;\n",
    "        }\n",
    "        shape* get() const { return shape_ptr_; }\n",
    "    private:\n",
    "        shape* shape_ptr_;\n",
    "};\n",
    "\n",
    "int main()\n",
    "{\n",
    "    shape_wrapper wrapper(create_shape(shape_type::circle));\n",
    "    wrapper.get()->print();\n",
    "    return 0;\n",
    "}"
   ]
  },
  {
   "cell_type": "code",
   "execution_count": 26,
   "id": "d657cda5-e0e0-48d8-8d9e-1d723436078c",
   "metadata": {},
   "outputs": [
    {
     "name": "stdout",
     "output_type": "stream",
     "text": [
      "circle\n"
     ]
    }
   ],
   "source": [
    "!g++ test.cpp -o test && ./test"
   ]
  },
  {
   "cell_type": "markdown",
   "id": "914b8345-a45f-4610-91c7-77352be33a3a",
   "metadata": {},
   "source": [
    "In fact, shape_wrapper acts like a smart pointer."
   ]
  },
  {
   "cell_type": "markdown",
   "id": "25a5b163-24db-47d1-910f-0002fe978cf4",
   "metadata": {},
   "source": [
    "# References\n",
    "https://diigo.com/0ktz01"
   ]
  }
 ],
 "metadata": {
  "kernelspec": {
   "display_name": "C++11 [conda env:cling]",
   "language": "C++11",
   "name": "conda-env-cling-xcpp11"
  },
  "language_info": {
   "codemirror_mode": "text/x-c++src",
   "file_extension": ".cpp",
   "mimetype": "text/x-c++src",
   "name": "c++",
   "version": "11"
  }
 },
 "nbformat": 4,
 "nbformat_minor": 5
}
