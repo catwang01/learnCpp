{
 "cells": [
  {
   "cell_type": "markdown",
   "id": "c97354c7-bd8f-45ce-86de-1b83811c9146",
   "metadata": {},
   "source": [
    "---\n",
    "title: 极客时间-现代C++30讲 02丨自己动手，实现C++的智能指针\n",
    "tags: 小书匠,C++,极客时间-现代C++30讲,raii,heap,free store,new,malloc,delete,free,smart_ptr,auto_ptr,share_ptr,unique_ptr,智能指针,pointer|指针\n",
    "grammar_cjkRuby: true\n",
    "---\n",
    "\n",
    "[toc]\n",
    "\n",
    "# 02丨自己动手，实现C++的智能指针"
   ]
  },
  {
   "cell_type": "markdown",
   "id": "cae97401-338b-4da0-a4d2-6a1e0c39ea1b",
   "metadata": {},
   "source": [
    "## Demands on smart pointers\n",
    "\n",
    "1. Can be used for arbitrary class.\n",
    "2. Act like normal pointers.\n",
    "3. Support copy."
   ]
  },
  {
   "cell_type": "markdown",
   "id": "1f640994-2ceb-4854-836e-b81ee5250121",
   "metadata": {},
   "source": [
    "## Use template"
   ]
  },
  {
   "cell_type": "markdown",
   "id": "9c0427cc-9caa-4699-a9c2-2b425e306c71",
   "metadata": {},
   "source": [
    "```cpp\n",
    "template<class T>\n",
    "class smart_pointer\n",
    "{\n",
    "    public:\n",
    "        smart_pointer(T* ptr): ptr_(ptr) { }\n",
    "        ~smart_pointer()\n",
    "        {\n",
    "            delete ptr_;\n",
    "        }\n",
    "        T* get() const { return ptr_; }\n",
    "    private:\n",
    "        T* ptr_;\n",
    "    \n",
    "};\n",
    "```"
   ]
  },
  {
   "cell_type": "markdown",
   "id": "db33f847-4ac2-433d-b3d9-29c1ad3682a1",
   "metadata": {},
   "source": [
    "## Act like normal pointers\n",
    "\n",
    "How do normal pointers act? Basically, normal pointers support 3 opeartions on them\n",
    "\n",
    "1. use `ptr->x` to access a member\n",
    "2. use `*ptr` to get the reference of the pointed object\n",
    "3. can be used as a boolean variable, such as `if(ptr) ptr->call()`\n",
    "4. A pointer to derived class can be converted to a pointer to base class."
   ]
  },
  {
   "cell_type": "markdown",
   "id": "25c46773-892b-41c0-96f5-42c961fee86e",
   "metadata": {},
   "source": [
    "### overwrite operations"
   ]
  },
  {
   "cell_type": "markdown",
   "id": "308d5a33-971f-4ea2-ae5e-b332ecd57c18",
   "metadata": {},
   "source": [
    "Thus, we can overwrite these operations to make `smart_pointer` more like a normal pointers."
   ]
  },
  {
   "cell_type": "markdown",
   "id": "0f55ff45-b6ce-4f6f-8b7b-b4541a4e3db2",
   "metadata": {},
   "source": [
    "```cpp\n",
    "template<class T>\n",
    "class smart_pointer\n",
    "{\n",
    "    public:\n",
    "        smart_pointer(T* ptr): ptr_(ptr) { }\n",
    "        ~smart_pointer()\n",
    "        {\n",
    "            delete ptr_;\n",
    "        }\n",
    "        T* get() const { return ptr_; }\n",
    "        // Operations to immitate pointers\n",
    "        T& operator*() const { return *ptr_; }\n",
    "        T* operator->() const { return ptr_;  }\n",
    "        operator bool() const { return ptr_; }\n",
    "    private:\n",
    "        T* ptr_;\n",
    "    \n",
    "};\n",
    "```"
   ]
  },
  {
   "cell_type": "markdown",
   "id": "798aa54a-bafe-45c6-8ad3-9739f6f6d7a3",
   "metadata": {},
   "source": [
    "### use template function"
   ]
  },
  {
   "cell_type": "markdown",
   "id": "a96ef991-f4e3-449b-b570-316cd4e93d00",
   "metadata": {},
   "source": [
    "Suppose our class support copy constructor. What the signature of the copy constructor? It might be\n",
    "\n",
    "```cpp\n",
    "smart_pointer(const smart_point<T>&);\n",
    "```\n",
    "\n",
    "However, this signature doesn't meet our demands, because it doesn't support accepts a derived class of T.\n",
    "\n",
    "To support convert a derived class pointer into a base class pointer, we should use template function.\n",
    "\n",
    "```cpp\n",
    "template<class U>\n",
    "smart_pointer(const smart_point<U>&);\n",
    "```"
   ]
  },
  {
   "cell_type": "markdown",
   "id": "e899ed14-425c-477c-bda5-515fe2941d64",
   "metadata": {},
   "source": [
    "## Three copy behaviors"
   ]
  },
  {
   "cell_type": "markdown",
   "id": "35b04af4-96a9-4455-b199-f458d7a71b29",
   "metadata": {},
   "source": [
    "\n",
    "When we want to enable our `smart_pointer` to be pointed, things become a little bit complicated.\n",
    "\n",
    "How do we define copy behavior? Basically, there are three reasonable behaviors of copy:\n",
    "\n",
    "1. When we copy a pointer, copy the underlying object and return a new pointer points to it.\n",
    "2. When we copy a pointer, transfer the ownership of the underlying objects, that is, the old pointer will not hold the object anymore.\n",
    "3. Use a variable to record how many pointers point to the same object. The record increments each time we copy a pointer and decrements each time we deconstruct a pointer. The object will not be destroyed until the record is decreased to zero."
   ]
  },
  {
   "cell_type": "markdown",
   "id": "946f7114-39c8-4ecd-ad13-6c209f008420",
   "metadata": {},
   "source": [
    "## First behavior - We don't copy the underlying object"
   ]
  },
  {
   "cell_type": "markdown",
   "id": "491c97aa-89a6-4600-b435-c5afe37ba522",
   "metadata": {},
   "source": [
    "Usually, we don't want to copy the underlying object when we copy a pointer for two reasons:\n",
    "1. In this case, copy the object itself instead of the pointer is more suitable because one main reason for using pointers is to avoid copies of objects.\n",
    "2. Moreover, if the pointer points to a derived class, we can't create a derived class with only base class. For example, suppose we use template to implement smart_ptr and\n",
    "\n",
    "```cpp\n",
    "template<class T>\n",
    "class smart_ptr{...};\n",
    "// suppose Circle is a derived class of Shape.\n",
    "smart_ptr<Shape> circle = new Circle();\n",
    "```\n",
    "\n",
    "In the internal of smart_ptr, the template parameter T is `Shape`, smart_ptr<Shape> doesn't know the information of `Circle`, therefore we can't create an instance of Circle only with T.\n",
    "\n",
    "Thus, we don't implement the first behavior in the code."
   ]
  },
  {
   "cell_type": "markdown",
   "id": "1abdaf61-5214-4f84-95f1-ffb38a181f59",
   "metadata": {},
   "source": [
    "An pointer behaves as the reason2 indicates is a `unique_ptr` and behaves as the reason3 indicates is a `shared_ptr`, both are provided in C++11 standard."
   ]
  },
  {
   "cell_type": "markdown",
   "id": "65bc63f0-8400-4869-a3c7-f52d0f61a083",
   "metadata": {},
   "source": [
    "## Second behavior - when to copy? "
   ]
  },
  {
   "cell_type": "markdown",
   "id": "3b30e625-84dd-4cef-89f7-bc00f5a40396",
   "metadata": {},
   "source": [
    "### auto_ptr"
   ]
  },
  {
   "cell_type": "code",
   "execution_count": 1,
   "id": "3f1fcbca-5516-4a64-8b08-68efb968f967",
   "metadata": {},
   "outputs": [
    {
     "name": "stdout",
     "output_type": "stream",
     "text": [
      "Overwriting smart_ptr.h\n"
     ]
    }
   ],
   "source": [
    "%%file smart_ptr.h\n",
    "#include <iostream>\n",
    "template<class T>\n",
    "class smart_pointer\n",
    "{\n",
    "    public:\n",
    "        smart_pointer(T* ptr=NULL): ptr_(ptr) { }\n",
    "        ~smart_pointer()\n",
    "        {\n",
    "            delete ptr_;\n",
    "        }\n",
    "        smart_pointer(smart_pointer& obj) // copy constructor\n",
    "        {\n",
    "                ptr_ =  obj.release();\n",
    "        }\n",
    "        smart_pointer& operator=(smart_pointer& obj) // copy assignment\n",
    "        {\n",
    "            smart_pointer copy = obj; // call copy constructor\n",
    "            std::swap(copy, *this);\n",
    "            return *this;\n",
    "        }\n",
    "        T* release()\n",
    "        {\n",
    "            T* ptr = ptr_;\n",
    "            ptr_ = NULL;\n",
    "            return ptr;\n",
    "        }\n",
    "    \n",
    "        T* get() const { return ptr_; }\n",
    "        // Operations to immitate pointers\n",
    "        T& operator*() const { return *ptr_; }\n",
    "        T* operator->() const { return ptr_;  }\n",
    "        operator bool() const { return ptr_; }\n",
    "    private:\n",
    "        T* ptr_;\n",
    "    \n",
    "};"
   ]
  },
  {
   "cell_type": "code",
   "execution_count": 2,
   "id": "0b510b4c-8527-427a-8519-5c172bbcc601",
   "metadata": {},
   "outputs": [
    {
     "name": "stdout",
     "output_type": "stream",
     "text": [
      "Overwriting test.cpp\n"
     ]
    }
   ],
   "source": [
    "%%file test.cpp\n",
    "#include \"smart_ptr.h\"\n",
    "#include <string>\n",
    "#include <iostream>\n",
    "\n",
    "int main()\n",
    "{\n",
    "    smart_pointer<std::string> ptr(new std::string(\"hello world\"));\n",
    "    std::cout << ptr->c_str() << std::endl;\n",
    "    std::cout << *ptr << std::endl;\n",
    "    return 0;\n",
    "}"
   ]
  },
  {
   "cell_type": "code",
   "execution_count": 3,
   "id": "1102d4ee-9854-4708-b3e3-d51c6a995fc3",
   "metadata": {},
   "outputs": [
    {
     "name": "stdout",
     "output_type": "stream",
     "text": [
      "hello world\n",
      "hello world\n"
     ]
    }
   ],
   "source": [
    "!g++ test.cpp -o test && ./test"
   ]
  },
  {
   "cell_type": "markdown",
   "id": "ba947939-9f77-4d72-8ac0-a80a4055c63c",
   "metadata": {},
   "source": [
    "Previous code seems to work well. However, such implementation encourages unexpected ownership transfers, leading to unexpected errors."
   ]
  },
  {
   "cell_type": "code",
   "execution_count": 4,
   "id": "33f41767-bd55-4ed0-975d-7eb3ec61d413",
   "metadata": {},
   "outputs": [
    {
     "name": "stdout",
     "output_type": "stream",
     "text": [
      "Overwriting test.cpp\n"
     ]
    }
   ],
   "source": [
    "%%file test.cpp\n",
    "#include \"smart_ptr.h\"\n",
    "#include <string>\n",
    "#include <iostream>\n",
    "\n",
    "void print(smart_pointer<std::string> ptr)\n",
    "{\n",
    "    std::cout << ptr->c_str() << std::endl;\n",
    "    std::cout << *ptr << std::endl;\n",
    "}\n",
    "\n",
    "int main()\n",
    "{\n",
    "    smart_pointer<std::string> ptr(new std::string(\"hello world\"));\n",
    "    print(ptr);\n",
    "    print(ptr);\n",
    "    return 0;\n",
    "}"
   ]
  },
  {
   "cell_type": "code",
   "execution_count": 5,
   "id": "6882e8d9-ebfd-4d77-845e-7b6153fd2e64",
   "metadata": {},
   "outputs": [
    {
     "name": "stdout",
     "output_type": "stream",
     "text": [
      "hello world\n",
      "hello world\n",
      "Segmentation fault (core dumped)\n"
     ]
    }
   ],
   "source": [
    "!g++ test.cpp -o test && ./test"
   ]
  },
  {
   "cell_type": "markdown",
   "id": "5980c356-e411-4b50-b293-ae4162de6fbb",
   "metadata": {},
   "source": [
    "The main differences are that we move the print part into a `print` function and call the function twice. This code can be compiled and causes segmentation fault in the runtime.\n",
    "\n",
    "The point is that the function `print` receives an `smart_pointer<std::string>` parameter, which invokes copy constructor and thus the ownership of the obj is transferred into the temporary obj created within the function. After the first `print` is called, the string obj on heap is already destructed as the temporary object is destructed. Thus, `ptr` now references a dead pointer and the second `print` fails without dubt."
   ]
  },
  {
   "cell_type": "markdown",
   "id": "a842ead7-fb96-4138-915f-7536e4987007",
   "metadata": {},
   "source": [
    "The idea of this `smart_ptr` class is actually implemented by C++ as `auto_ptr`. "
   ]
  },
  {
   "cell_type": "markdown",
   "id": "1c27baaa-e2cc-4e71-bfce-40f260f2398f",
   "metadata": {},
   "source": [
    "### unique_ptr"
   ]
  },
  {
   "cell_type": "markdown",
   "id": "11d279af-ae7d-4f12-8a4e-512ca1610acb",
   "metadata": {},
   "source": [
    "The problem of `auto_ptr` exposed in the previous code can be addressed by introducing move semantic. C++ deprecates `auto_ptr` and provides `unique_ptr` to as a substitute.\n",
    "\n",
    "The main problem of `auto_ptr` is to transfer ownership via copies. `unqiue_ptr` moves transferring ownership part into move constructor and move assignment operator. Here we do small changes on the basis of the previous code and implement a simple version of `unique_ptr`"
   ]
  },
  {
   "cell_type": "code",
   "execution_count": 6,
   "id": "b04732f7-a82b-41a5-a7bf-df454a2f821b",
   "metadata": {},
   "outputs": [
    {
     "name": "stdout",
     "output_type": "stream",
     "text": [
      "Overwriting smart_ptr.h\n"
     ]
    }
   ],
   "source": [
    "%%file smart_ptr.h\n",
    "#include <iostream>\n",
    "template<class T>\n",
    "class smart_pointer\n",
    "{\n",
    "    public:\n",
    "        smart_pointer(T* ptr=NULL): ptr_(ptr) { }\n",
    "        ~smart_pointer()\n",
    "        {\n",
    "            delete ptr_;\n",
    "        }\n",
    "        smart_pointer(smart_pointer&& obj) // copy constructor\n",
    "        {\n",
    "                ptr_ = obj.release();\n",
    "        }\n",
    "        smart_pointer& operator=(smart_pointer&& obj) // copy assignment\n",
    "        {\n",
    "            std::swap(obj, *this);\n",
    "            return *this;\n",
    "        }\n",
    "        T* release()\n",
    "        {\n",
    "            T* ptr = ptr_;\n",
    "            ptr_ = NULL;\n",
    "            return ptr;\n",
    "        }\n",
    "    \n",
    "        T* get() const { return ptr_; }\n",
    "        // Operations to immitate pointers\n",
    "        T& operator*() const { return *ptr_; }\n",
    "        T* operator->() const { return ptr_;  }\n",
    "        operator bool() const { return ptr_; }\n",
    "    private:\n",
    "        T* ptr_;\n",
    "    \n",
    "};"
   ]
  },
  {
   "cell_type": "code",
   "execution_count": 7,
   "id": "a9fe5318-150e-4a9e-aded-aa2dfd1d7cf5",
   "metadata": {},
   "outputs": [
    {
     "name": "stdout",
     "output_type": "stream",
     "text": [
      "Overwriting test.cpp\n"
     ]
    }
   ],
   "source": [
    "%%file test.cpp\n",
    "#include \"smart_ptr.h\"\n",
    "#include <string>\n",
    "#include <iostream>\n",
    "\n",
    "int main()\n",
    "{\n",
    "    smart_pointer<std::string> ptr(new std::string(\"hello world\"));\n",
    "    std::cout << ptr->c_str() << std::endl;\n",
    "    std::cout << *ptr << std::endl;\n",
    "    return 0;\n",
    "}"
   ]
  },
  {
   "cell_type": "code",
   "execution_count": 8,
   "id": "152a377a-0e2c-4f9e-932f-9ff10ab3bf64",
   "metadata": {},
   "outputs": [
    {
     "name": "stdout",
     "output_type": "stream",
     "text": [
      "hello world\n",
      "hello world\n"
     ]
    }
   ],
   "source": [
    "!g++ test.cpp -o test && ./test"
   ]
  },
  {
   "cell_type": "markdown",
   "id": "134f45d5-7b19-4516-b5fb-52215a4d3304",
   "metadata": {},
   "source": [
    "Here, The only thing we did is to change the copy constructor and copy assignment operator into move constructor and move assignment operator."
   ]
  },
  {
   "cell_type": "markdown",
   "id": "9b3650a4-c225-414c-aef6-2259e05a6cff",
   "metadata": {},
   "source": [
    "## Third Behavior - Sharing ownership"
   ]
  },
  {
   "cell_type": "markdown",
   "id": "a9b11169-88b8-415b-817e-d0c2eb720736",
   "metadata": {},
   "source": [
    "### shared_ptr"
   ]
  },
  {
   "cell_type": "markdown",
   "id": "7a45f9da-5a11-48b5-baeb-31d1811f0f58",
   "metadata": {},
   "source": [
    "This following code is still flawed."
   ]
  },
  {
   "cell_type": "code",
   "execution_count": 44,
   "id": "49095afb-92e6-4029-abe9-6f3b9a86be08",
   "metadata": {},
   "outputs": [
    {
     "name": "stdout",
     "output_type": "stream",
     "text": [
      "Overwriting smart_ptr.h\n"
     ]
    }
   ],
   "source": [
    "%%file smart_ptr.h\n",
    "#include <iostream>\n",
    "class smart_count \n",
    "{\n",
    "    public: \n",
    "        smart_count(int n_=0): n(n_) {}\n",
    "        void decrement() { n--; }\n",
    "        void increment() { n++; }\n",
    "        int get() { return n; }\n",
    "    private:\n",
    "        int n;\n",
    "    \n",
    "};\n",
    "template<class T>\n",
    "class smart_pointer\n",
    "{\n",
    "    public:\n",
    "        smart_pointer(T* ptr=NULL): ptr_(ptr) { \n",
    "            if (ptr_)\n",
    "                count = new smart_count(1);\n",
    "            else\n",
    "                count = new smart_count(0);\n",
    "        }\n",
    "        ~smart_pointer()\n",
    "        {\n",
    "            count->decrement();\n",
    "            if (count->get() == 0)\n",
    "            {\n",
    "                delete ptr_;\n",
    "                delete count;\n",
    "            }\n",
    "        }\n",
    "    \n",
    "        smart_pointer(const smart_pointer& obj) // copy constructor\n",
    "        {\n",
    "                std::cout << \"smart_pointer(const smart_pointer& obj)\" << std::endl;\n",
    "                ptr_ = obj.ptr_; // auto conversion\n",
    "                count = obj.count;\n",
    "                count->increment();\n",
    "        }\n",
    "        template<class U>\n",
    "        smart_pointer(const smart_pointer<U>& obj) // conversion\n",
    "        {\n",
    "                std::cout << \"smart_pointer(const smart_pointer<U>& obj)\" << std::endl;\n",
    "                ptr_ = obj.ptr_; // auto conversion\n",
    "                count = obj.count;\n",
    "                count->increment();\n",
    "        }\n",
    "    \n",
    "        // here pass argument by value instead of by reference.\n",
    "        smart_pointer& operator=(smart_pointer obj) // copy assignment\n",
    "        {\n",
    "            std::swap(obj, *this);\n",
    "            count->increment();\n",
    "            return *this;\n",
    "        }\n",
    "        T* get() const { return ptr_; }\n",
    "        // Operations to immitate pointers\n",
    "        T& operator*() const { return *ptr_; }\n",
    "        T* operator->() const { return ptr_;  }\n",
    "        operator bool() const { return ptr_; }\n",
    "        int use_count() const { return count->get(); }\n",
    "        template <class U>\n",
    "        friend class smart_pointer;\n",
    "    private:\n",
    "        smart_count* count;\n",
    "        T* ptr_;\n",
    "};"
   ]
  },
  {
   "cell_type": "code",
   "execution_count": 40,
   "id": "57fbeb12-42f2-4ddf-a6c0-b4a04c5d4c26",
   "metadata": {},
   "outputs": [
    {
     "name": "stdout",
     "output_type": "stream",
     "text": [
      "Overwriting test.cpp\n"
     ]
    }
   ],
   "source": [
    "%%file test.cpp\n",
    "#include \"smart_ptr.h\"\n",
    "#include <string>\n",
    "#include <iostream>\n",
    "\n",
    "class shape {\n",
    "public:\n",
    "    virtual ~shape() {};\n",
    "};\n",
    "class circle: public shape\n",
    "{\n",
    "    public:\n",
    "        ~circle() { puts(\"~circle()\");}\n",
    "};\n",
    "\n",
    "int main()\n",
    "{\n",
    "    smart_pointer<circle> ptr1(new circle());\n",
    "    printf(\"#pointers = %d\\n\", ptr1.use_count());\n",
    "    smart_pointer<shape> ptr2 = ptr1;\n",
    "    printf(\"#pointers = %d\\n\", ptr2.use_count());\n",
    "    smart_pointer<shape> ptr3;\n",
    "    printf(\"#pointers = %d\\n\", ptr3.use_count());\n",
    "    //     ptr3 = ptr2; \n",
    "    //     printf(\"#pointers = %d\\n\", ptr3.use_count());\n",
    "    return 0;\n",
    "}"
   ]
  },
  {
   "cell_type": "code",
   "execution_count": 42,
   "id": "e5472862-b846-45f3-b0c3-fd6609354f09",
   "metadata": {},
   "outputs": [
    {
     "name": "stderr",
     "output_type": "stream",
     "text": [
      "IOPub data rate exceeded.\n",
      "The Jupyter server will temporarily stop sending output\n",
      "to the client in order to avoid crashing it.\n",
      "To change this limit, set the config variable\n",
      "`--ServerApp.iopub_data_rate_limit`.\n",
      "\n",
      "Current values:\n",
      "ServerApp.iopub_data_rate_limit=1000000.0 (bytes/sec)\n",
      "ServerApp.rate_limit_window=3.0 (secs)\n",
      "\n"
     ]
    }
   ],
   "source": [
    "!g++ test.cpp -o test && ./test"
   ]
  }
 ],
 "metadata": {
  "kernelspec": {
   "display_name": "C++11 [conda env:cling]",
   "language": "C++11",
   "name": "conda-env-cling-xcpp11"
  },
  "language_info": {
   "codemirror_mode": "text/x-c++src",
   "file_extension": ".cpp",
   "mimetype": "text/x-c++src",
   "name": "c++",
   "version": "11"
  }
 },
 "nbformat": 4,
 "nbformat_minor": 5
}
