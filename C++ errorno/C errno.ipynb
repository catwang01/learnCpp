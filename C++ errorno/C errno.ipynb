{
 "cells": [
  {
   "cell_type": "markdown",
   "metadata": {},
   "source": [
    "---\n",
    "title: C errno\n",
    "tags: 小书匠,c++,errno,perror,strerror,error\n",
    "grammar_cjkRuby: true\n",
    "renderNumberedHeading: true\n",
    "---\n",
    "\n",
    "[toc]\n",
    "\n",
    "# C errno"
   ]
  },
  {
   "cell_type": "markdown",
   "metadata": {},
   "source": [
    "The C programming language provides perror() and strerror() functions which can be used to display the text message associated with errno.\n",
    "- The perror() function displays the string you pass to it, followed by a colon, a space, and then the textual representation of the current errno value.\n",
    "- The strerror() function, which returns a pointer to the textual representation of the current errno value."
   ]
  },
  {
   "cell_type": "code",
   "execution_count": 38,
   "metadata": {},
   "outputs": [
    {
     "name": "stdout",
     "output_type": "stream",
     "text": [
      "Overwriting test.cpp\n"
     ]
    }
   ],
   "source": [
    "%%file test.cpp\n",
    "#include <stdio.h>\n",
    "#include <string.h>\n",
    "#include <errno.h>\n",
    " \n",
    "int main ()\n",
    "{\n",
    "    for (errno=0; errno<10; errno++)\n",
    "    {\n",
    "        fprintf(stderr, \"Value of errno: %d\\tmessage: %s\\n\", errno, strerror(errno)); // use fprintf to send output into stderr\n",
    "        perror(\"Value of errno\");\n",
    "    }\n",
    "   return 0;\n",
    "}"
   ]
  },
  {
   "cell_type": "code",
   "execution_count": 39,
   "metadata": {},
   "outputs": [],
   "source": [
    "!g++ test.cpp -o test"
   ]
  },
  {
   "cell_type": "code",
   "execution_count": 40,
   "metadata": {},
   "outputs": [
    {
     "name": "stdout",
     "output_type": "stream",
     "text": [
      "Value of errno: 0\tmessage: Undefined error: 0\n",
      "Value of errno: Undefined error: 0\n",
      "Value of errno: 1\tmessage: Operation not permitted\n",
      "Value of errno: Operation not permitted\n",
      "Value of errno: 2\tmessage: No such file or directory\n",
      "Value of errno: No such file or directory\n",
      "Value of errno: 3\tmessage: No such process\n",
      "Value of errno: No such process\n",
      "Value of errno: 4\tmessage: Interrupted system call\n",
      "Value of errno: Interrupted system call\n",
      "Value of errno: 5\tmessage: Input/output error\n",
      "Value of errno: Input/output error\n",
      "Value of errno: 6\tmessage: Device not configured\n",
      "Value of errno: Device not configured\n",
      "Value of errno: 7\tmessage: Argument list too long\n",
      "Value of errno: Argument list too long\n",
      "Value of errno: 8\tmessage: Exec format error\n",
      "Value of errno: Exec format error\n",
      "Value of errno: 9\tmessage: Bad file descriptor\n",
      "Value of errno: Bad file descriptor\n"
     ]
    }
   ],
   "source": [
    "!./test"
   ]
  },
  {
   "cell_type": "markdown",
   "metadata": {},
   "source": [
    "## 示例"
   ]
  },
  {
   "cell_type": "code",
   "execution_count": 41,
   "metadata": {},
   "outputs": [
    {
     "name": "stdout",
     "output_type": "stream",
     "text": [
      "Overwriting test.cpp\n"
     ]
    }
   ],
   "source": [
    "%%file test.cpp \n",
    "#include <stdio.h>\n",
    "#include <errno.h>\n",
    "#include <string.h>\n",
    " \n",
    "int main ()\n",
    "{\n",
    "   FILE *fp;\n",
    " \n",
    "   fp = fopen(\"file.txt\", \"r\");\n",
    "   if( fp == NULL ) \n",
    "   {\n",
    "      fprintf(stderr, \"Value of errno: %d\\n\", errno);\n",
    "      fprintf(stderr, \"Error opening file: %s\\n\", strerror(errno));\n",
    "   }\n",
    "   else \n",
    "   {\n",
    "      fclose(fp);\n",
    "   }\n",
    "   \n",
    "   return(0);\n",
    "}"
   ]
  },
  {
   "cell_type": "code",
   "execution_count": 42,
   "metadata": {},
   "outputs": [],
   "source": [
    "!g++ test.cpp -o test"
   ]
  },
  {
   "cell_type": "code",
   "execution_count": 43,
   "metadata": {},
   "outputs": [
    {
     "name": "stdout",
     "output_type": "stream",
     "text": [
      "Value of errno: 2\n",
      "Error opening file: No such file or directory\n"
     ]
    }
   ],
   "source": [
    "!./test"
   ]
  },
  {
   "cell_type": "markdown",
   "metadata": {},
   "source": [
    "# References\n",
    "- [C 库宏 – errno | 菜鸟教程](https://www.runoob.com/cprogramming/c-macro-errno.html)"
   ]
  },
  {
   "cell_type": "code",
   "execution_count": null,
   "metadata": {},
   "outputs": [],
   "source": []
  }
 ],
 "metadata": {
  "kernelspec": {
   "display_name": "C++11 [conda env:cpp]",
   "language": "C++11",
   "name": "conda-env-cpp-xcpp11"
  },
  "language_info": {
   "codemirror_mode": "text/x-c++src",
   "file_extension": ".cpp",
   "mimetype": "text/x-c++src",
   "name": "c++",
   "version": "11"
  }
 },
 "nbformat": 4,
 "nbformat_minor": 4
}
