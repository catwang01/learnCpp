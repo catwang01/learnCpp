{
 "cells": [
  {
   "cell_type": "markdown",
   "metadata": {},
   "source": [
    "---\n",
    "title: C++ printf基本使用\n",
    "tags: 小书匠,printf,c++\n",
    "grammar_cjkRuby: true\n",
    "renderNumberedHeading: true\n",
    "---\n",
    "\n",
    "[toc]\n",
    "\n",
    "# C++ printf"
   ]
  },
  {
   "cell_type": "markdown",
   "metadata": {},
   "source": [
    "## printf 的原型"
   ]
  },
  {
   "cell_type": "markdown",
   "metadata": {},
   "source": [
    "```cpp\n",
    "# include <stdio.h>\n",
    "int printf(const char *format, ...);\n",
    "```\n",
    "\n",
    "在讲每一个函数的时候都会先把它的函数原型写出来，这个原型你们现在看不懂不要紧，等到学完C语言之后再来看这个原型就会发现它是很有参考意义的！它对深刻理解函数有着很大的价值。"
   ]
  },
  {
   "cell_type": "code",
   "execution_count": 12,
   "metadata": {},
   "outputs": [
    {
     "name": "stdout",
     "output_type": "stream",
     "text": [
      "10\n",
      "12\n",
      "a\n"
     ]
    }
   ],
   "source": [
    "int i = 10;\n",
    "printf(\"%d\\n\", 10);\n",
    "printf(\"%o\\n\", 10);\n",
    "printf(\"%x\\n\", 10);"
   ]
  },
  {
   "cell_type": "markdown",
   "metadata": {},
   "source": [
    "这句话的意思是将变量 i 以十进制输出。\n",
    "\n",
    "那么现在有一个问题：i 本身就是十进制，为什么还要将 i 以十进制输出呢？\n",
    "\n",
    "因为程序中虽然写的是 i=10，但是在内存中并不是将 10 这个十进制数存放进去，而是将 10 的二进制代码存放进去了。计算机只能执行二进制 0、1 代码，而 0、1 代码本身并没有什么实际的含义，它可以表示任何类型的数据。所以输出的时候要强调是以哪种进制形式输出。所以就必须要有“输出控制符”，以告诉操作系统应该怎样解读二进制数据。\n",
    "\n",
    "如果是 `%x`就是以十六进制的形式输出，要是`%o`就是以八进制的形式输出，大家自己试一下。"
   ]
  },
  {
   "cell_type": "code",
   "execution_count": 5,
   "metadata": {},
   "outputs": [
    {
     "name": "stdout",
     "output_type": "stream",
     "text": [
      "10 3\n"
     ]
    }
   ],
   "source": [
    "# include <stdio.h>\n",
    "int i = 10;\n",
    "int j = 3;\n",
    "printf(\"%d %d\\n\", i, j);"
   ]
  },
  {
   "cell_type": "markdown",
   "metadata": {},
   "source": [
    "## 输出控制符\n",
    "\n",
    "常用的输出控制符主要有以下几个：\n",
    "\n",
    "| 控制符 | 说明 |\n",
    "| --- | --- |\n",
    "| %d | 按十进制整型数据的实际长度输出。 |\n",
    "| %ld | 输出长整型数据。 |\n",
    "| %md | m 为指定的输出字段的宽度。如果数据的位数小于 m，则左端补以空格，若大于 m，则按实际位数输出。 |\n",
    "| %u | 输出无符号整型（unsigned）。输出无符号整型时也可以用 %d，这时是将无符号转换成有符号数，然后输出。但编程的时候最好不要这么写，因为这样要进行一次转换，使 CPU 多做一次无用功。 |\n",
    "| %c | 用来输出一个字符。 |\n",
    "| %f | 用来输出实数，包括单精度和双精度，以小数形式输出。不指定字段宽度，由系统自动指定，整数部分全部输出，小数部分输出 6 位，超过 6 位的四舍五入。 |\n",
    "| %.mf | 输出实数时小数点后保留 m 位，注意 m 前面有个点。 |\n",
    "| %o | 以八进制整数形式输出，这个就用得很少了，了解一下就行了。 |\n",
    "| %s | 用来输出字符串。用 %s 输出字符串同前面直接输出字符串是一样的。但是此时要先定义字符数组或字符指针存储或指向字符串，这个稍后再讲。 |\n",
    "| %x（或 %X 或 %#x 或 %#X） | 以十六进制形式输出整数，这个很重要。 |"
   ]
  },
  {
   "cell_type": "markdown",
   "metadata": {},
   "source": [
    "### %d、%2d、%02d、%.2d"
   ]
  },
  {
   "cell_type": "markdown",
   "metadata": {},
   "source": [
    "- %d就是普通的输出了\n",
    "- %2d是将数字按宽度为2，采用右对齐方式输出，若数据位数不到2位，则左边补**空格**\n",
    "- %02d，和%2d差不多，只不过左边补0\n",
    "- %.2d 保留两位小数"
   ]
  },
  {
   "cell_type": "code",
   "execution_count": 22,
   "metadata": {},
   "outputs": [
    {
     "name": "stdout",
     "output_type": "stream",
     "text": [
      "2\n",
      " 2\n",
      "02\n",
      "3.141000\n",
      "3.14\n"
     ]
    }
   ],
   "source": [
    "int a = 2;\n",
    "printf(\"%d\\n\", a);\n",
    "printf(\"%2d\\n\", a);\n",
    "printf(\"%02d\\n\", a);\n",
    "\n",
    "float pi = 3.141;\n",
    "printf(\"%f\\n\", pi);\n",
    "printf(\"%.2f\\n\", pi);"
   ]
  },
  {
   "cell_type": "markdown",
   "metadata": {},
   "source": [
    "## %x、%X、%#x、%#X 的区别\n",
    "\n",
    "一定要掌握 %x（或 %X 或 %#x 或 %#X），因为调试的时候经常要将内存中的二进制代码全部输出，然后用十六进制显示出来。下面写一个程序看看它们四个有什么区别："
   ]
  },
  {
   "cell_type": "code",
   "execution_count": 6,
   "metadata": {
    "tags": []
   },
   "outputs": [
    {
     "name": "stdout",
     "output_type": "stream",
     "text": [
      "2f\n",
      "2F\n",
      "0x2f\n",
      "0X2F\n"
     ]
    }
   ],
   "source": [
    "# include <stdio.h>\n",
    "\n",
    "int i = 47;\n",
    "printf(\"%x\\n\", i);\n",
    "printf(\"%X\\n\", i);\n",
    "printf(\"%#x\\n\", i);\n",
    "printf(\"%#X\\n\", i);"
   ]
  },
  {
   "cell_type": "markdown",
   "metadata": {},
   "source": [
    "从输出结果可以看出：如果是小写的 `x`，输出的字母就是小写的；如果是大写的`X`，输出的字母就是大写的；如果加一个`#`，就以标准的十六进制形式输出。\n",
    "\n",
    "最好是加一个 `#`，否则如果输出的十六进制数正好没有字母的话会误认为是一个十进制数呢！总之，不加`#`容易造成误解。但是如果输出 0x2f 或 0x2F，那么人家一看就知道是十六进制。而且`%#x`和`%#X`中，笔者觉得大写的比较好，因为大写是绝对标准的十六进制写法。\n",
    "\n",
    "## 如何输出 %d、\\ 和双引号\n",
    "\n",
    "printf 中有输出控制符`%d`，转义字符前面有反斜杠`\\`，还有双引号。那么大家有没有想过这样一个问题：怎样将这三个符号通过 printf 输出到屏幕上呢？\n",
    "\n",
    "要输出 `%d`只需在前面再加上一个`%`，要输出`\\`只需在前面再加上一个`\\`，要输出双引号也只需在前面加上一个`\\`即可。程序如下："
   ]
  },
  {
   "cell_type": "code",
   "execution_count": 13,
   "metadata": {},
   "outputs": [
    {
     "name": "stdout",
     "output_type": "stream",
     "text": [
      "%d\n",
      "\\\n",
      "\"\n"
     ]
    }
   ],
   "source": [
    "# include <stdio.h>\n",
    "printf(\"%%d\\n\");\n",
    "printf(\"\\\\\\n\");\n",
    "printf(\"\\\"\\n\");"
   ]
  },
  {
   "cell_type": "markdown",
   "metadata": {},
   "source": [
    "## 小结\n",
    "\n",
    "printf 是C语言中非常重要的一个函数。经过上面的学习我们发现，其实它并不难。只要多编程多练习，很快就能掌握。\n",
    "\n",
    "其次学完本节之后要知道为什么需要“输出控制符”。因为计算机中所有的数据都是二进制 0、1 代码，所以输出的时候要用“输出控制符”告诉计算机以什么形式将二进制数据显示出来。\n",
    "\n",
    "输出控制符中，%d、%f、%s、%c 是最常用的，它们分别是输出整数、实数、字符串和字符的控制符。%.mf 虽然用得不多，但一定要重视。\n",
    "\n",
    "最后 %x、%X、%#x、%#X 四种用法的区别只需要了解一下即可。"
   ]
  },
  {
   "cell_type": "markdown",
   "metadata": {},
   "source": [
    "# References\n",
    "- [printf用法大全，C语言printf格式控制符一览表](http://c.biancheng.net/view/159.html)"
   ]
  }
 ],
 "metadata": {
  "kernelspec": {
   "display_name": "C++11 [conda env:cpp]",
   "language": "C++11",
   "name": "conda-env-cpp-xcpp11"
  },
  "language_info": {
   "codemirror_mode": "text/x-c++src",
   "file_extension": ".cpp",
   "mimetype": "text/x-c++src",
   "name": "c++",
   "version": "11"
  }
 },
 "nbformat": 4,
 "nbformat_minor": 4
}
