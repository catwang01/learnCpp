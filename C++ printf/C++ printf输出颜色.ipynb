{
 "cells": [
  {
   "cell_type": "markdown",
   "metadata": {},
   "source": [
    "---\n",
    "title: C++ printf 输出颜色\n",
    "tags: 小书匠,c++,cpp,printf,color\n",
    "grammar_cjkRuby: true\n",
    "renderNumberedHeading: true\n",
    "---\n",
    "\n",
    "[toc]\n",
    "\n",
    "# C++ printf 输出颜色"
   ]
  },
  {
   "cell_type": "markdown",
   "metadata": {},
   "source": [
    "\\033[显示方式;前景色;背景色m\n",
    "\n",
    "显示方式:0（默认值）、1（高亮）、22（非粗体）、4（下划线）、24（非下划线）、5（闪烁）、25（非闪烁）、7（反显）、27（非反显）\n",
    "前景色:30（黑色）、31（红色）、32（绿色）、 33（黄色）、34（蓝色）、35（洋红）、36（青色）、37（白色）\n",
    "背景色:40（黑色）、41（红色）、42（绿色）、 43（黄色）、44（蓝色）、45（洋红）、46（青色）、47（白色）\n",
    "\n",
    "- `\\033[0m 默认`\n",
    "- `\\033[1;32;40m 绿色`\n",
    "- `\\033[1;31;40m 红色`"
   ]
  },
  {
   "cell_type": "code",
   "execution_count": 1,
   "metadata": {},
   "outputs": [
    {
     "name": "stdout",
     "output_type": "stream",
     "text": [
      "\u001b[1;31;40m 输出红色字符 \u001b[0m\n"
     ]
    }
   ],
   "source": [
    "printf(\"\\033[1;31;40m 输出红色字符 \\033[0m\\n\");"
   ]
  },
  {
   "cell_type": "markdown",
   "metadata": {},
   "source": [
    "注意，开头的 `\\033[1;31;40m` 表示之后的输出都是这种格式，而末尾的 `\\033[0m` 表示还原为默认方式。如果不还原，之后的 `printf` 的输出会受到影响。"
   ]
  },
  {
   "cell_type": "code",
   "execution_count": 2,
   "metadata": {},
   "outputs": [
    {
     "name": "stdout",
     "output_type": "stream",
     "text": [
      "\u001b[1;31;40m 输出红色字符\n",
      "我也收到影响啦\n"
     ]
    }
   ],
   "source": [
    "printf(\"\\033[1;31;40m 输出红色字符\\n\");\n",
    "printf(\"我也收到影响啦\\n\");"
   ]
  },
  {
   "cell_type": "code",
   "execution_count": 3,
   "metadata": {},
   "outputs": [
    {
     "name": "stdout",
     "output_type": "stream",
     "text": [
      "\u001b[1;31;40m 输出红色字符\u001b[0m\n",
      "我没有收到影响\n"
     ]
    }
   ],
   "source": [
    "printf(\"\\033[1;31;40m 输出红色字符\\033[0m\\n\");\n",
    "printf(\"我没有收到影响\\n\");"
   ]
  },
  {
   "cell_type": "markdown",
   "metadata": {},
   "source": [
    "下面定义了一些常用的颜色的宏。"
   ]
  },
  {
   "cell_type": "code",
   "execution_count": 4,
   "metadata": {},
   "outputs": [],
   "source": [
    "#include <stdio.h>\n",
    "#define NONE         \"\\033[m\"\n",
    "#define RED          \"\\033[0;32;31m\"\n",
    "#define LIGHT_RED    \"\\033[1;31m\"\n",
    "#define GREEN        \"\\033[0;32;32m\"\n",
    "#define LIGHT_GREEN  \"\\033[1;32m\"\n",
    "#define BLUE         \"\\033[0;32;34m\"\n",
    "#define LIGHT_BLUE   \"\\033[1;34m\"\n",
    "#define DARY_GRAY    \"\\033[1;30m\"\n",
    "#define CYAN         \"\\033[0;36m\"\n",
    "#define LIGHT_CYAN   \"\\033[1;36m\"\n",
    "#define PURPLE       \"\\033[0;35m\"\n",
    "#define LIGHT_PURPLE \"\\033[1;35m\"\n",
    "#define BROWN        \"\\033[0;33m\"\n",
    "#define YELLOW       \"\\033[1;33m\"\n",
    "#define LIGHT_GRAY   \"\\033[0;37m\"\n",
    "#define WHITE        \"\\033[1;37m\"\n",
    "\n",
    "int test()\n",
    "{\n",
    "    printf( CYAN \"current function is %s \" GREEN \" in line: %d\\n\" NONE,\n",
    "            __FUNCTION__, __LINE__ );\n",
    "\n",
    "    fprintf(stderr, RED \"current function is %s \" BLUE \" in line is %d\\n\" NONE,\n",
    "            __FUNCTION__, __LINE__ );\n",
    "    return 0;\n",
    "}"
   ]
  },
  {
   "cell_type": "markdown",
   "metadata": {},
   "source": [
    "# References\n",
    "- [printf 改变输出颜色_hhtang的专栏-CSDN博客_printf改变颜色](https://blog.csdn.net/hhtang/article/details/4726821)"
   ]
  }
 ],
 "metadata": {
  "kernelspec": {
   "display_name": "C++11 [conda env:cpp]",
   "language": "C++11",
   "name": "conda-env-cpp-xcpp11"
  },
  "language_info": {
   "codemirror_mode": "text/x-c++src",
   "file_extension": ".cpp",
   "mimetype": "text/x-c++src",
   "name": "c++",
   "version": "11"
  }
 },
 "nbformat": 4,
 "nbformat_minor": 4
}
