{
 "cells": [
  {
   "cell_type": "markdown",
   "metadata": {},
   "source": [
    "---\n",
    "title: C++ const重载不起作用的情况\n",
    "tags: 小书匠,c++,const,overwrite\n",
    "grammar_cjkRuby: true\n",
    "renderNumberedHeading: true\n",
    "---\n",
    "\n",
    "[toc]\n",
    "\n",
    "# C++ const重载不起作用的情况"
   ]
  },
  {
   "cell_type": "markdown",
   "metadata": {},
   "source": [
    "## 例1"
   ]
  },
  {
   "cell_type": "code",
   "execution_count": 47,
   "metadata": {},
   "outputs": [
    {
     "name": "stdout",
     "output_type": "stream",
     "text": [
      "Overwriting test.cpp\n"
     ]
    }
   ],
   "source": [
    "%%file test.cpp\n",
    "#include<iostream>  \n",
    "\n",
    "void fun(const int i)  \n",
    "{   \n",
    "    std::cout << \"fun(const int) called \\n\";  \n",
    "}  \n",
    "\n",
    "void fun(int i)  \n",
    "{  \n",
    "    std::cout << \"fun(int ) called \\n\" ;  \n",
    "}  \n",
    "\n",
    "int main()  \n",
    "{  \n",
    "    int a = 10\n",
    "    fun(a);  \n",
    "    \n",
    "    const int b = 10;  \n",
    "    fun(b);  \n",
    "    \n",
    "    return 0;  \n",
    "}"
   ]
  },
  {
   "cell_type": "code",
   "execution_count": 48,
   "metadata": {},
   "outputs": [
    {
     "name": "stdout",
     "output_type": "stream",
     "text": [
      "test.cpp:8:6: error: redefinition of 'fun'\n",
      "void fun(int i)  \n",
      "     ^\n",
      "test.cpp:3:6: note: previous definition is here\n",
      "void fun(const int i)  \n",
      "     ^\n",
      "test.cpp:15:15: error: expected ';' at end of declaration\n",
      "    int a = 10\n",
      "              ^\n",
      "              ;\n",
      "2 errors generated.\n"
     ]
    }
   ],
   "source": [
    "!g++ test.cpp"
   ]
  },
  {
   "cell_type": "markdown",
   "metadata": {},
   "source": [
    "发现报错了，因为 `func(const int i)` 和 `func(int i)` 时重定义的，因为编译器将其看作是同一个函数。\n",
    "\n",
    "为什么会这样？明明一个是 const，一个不是 const？\n",
    "\n",
    "这是因为 `i` 采用的是值传递，函数内部的 `i` 本身就不会改变函数外边的 `a` 和 `b`，因此这里使用 const 是无效的。"
   ]
  },
  {
   "cell_type": "markdown",
   "metadata": {},
   "source": [
    "## 例2"
   ]
  },
  {
   "cell_type": "markdown",
   "metadata": {},
   "source": [
    "再来看下面两个例子"
   ]
  },
  {
   "cell_type": "code",
   "execution_count": 55,
   "metadata": {},
   "outputs": [
    {
     "name": "stdout",
     "output_type": "stream",
     "text": [
      "Overwriting test.cpp\n"
     ]
    }
   ],
   "source": [
    "%%file test.cpp\n",
    "#include<iostream>  \n",
    "using namespace std;  \n",
    "   \n",
    "void fun(char *a)  \n",
    "{  \n",
    "  cout << \"non-const fun()\\n\";\n",
    "}  \n",
    "   \n",
    "void fun(const char *a)  \n",
    "{  \n",
    "  cout << \"const fun()\\n\";\n",
    "}  \n",
    "   \n",
    "int main()  \n",
    "{  \n",
    "    char *ptr1 = \"hello world\";\n",
    "    const char *ptr2 = \"hello world\";  \n",
    "    fun(ptr1);\n",
    "    fun(ptr2);  \n",
    "    return 0;  \n",
    "}"
   ]
  },
  {
   "cell_type": "code",
   "execution_count": 56,
   "metadata": {},
   "outputs": [
    {
     "name": "stdout",
     "output_type": "stream",
     "text": [
      "non-const fun()\n",
      "const fun()\n"
     ]
    }
   ],
   "source": [
    "!g++ test.cpp && ./a.out"
   ]
  },
  {
   "cell_type": "markdown",
   "metadata": {},
   "source": [
    "例2的情况是正确的。因为 `const char* a` 表示的是指向常量的指针。"
   ]
  },
  {
   "cell_type": "markdown",
   "metadata": {},
   "source": [
    "## 例3"
   ]
  },
  {
   "cell_type": "code",
   "execution_count": 62,
   "metadata": {},
   "outputs": [
    {
     "name": "stdout",
     "output_type": "stream",
     "text": [
      "Overwriting test.cpp\n"
     ]
    }
   ],
   "source": [
    "%%file test.cpp\n",
    "#include<iostream>  \n",
    "using namespace std;  \n",
    "   \n",
    "void fun(char* a)  \n",
    "{  \n",
    "  cout << \"non-const fun()\\n\" << a;  \n",
    "}  \n",
    "   \n",
    "void fun(char* const a)  \n",
    "{  \n",
    "  cout << \"const fun()\\n\" << a;  \n",
    "}  \n",
    "   \n",
    "int main()  \n",
    "{  \n",
    "    char *ptr1 = \"hello world\";\n",
    "    const char *ptr2 = \"hello world\";  \n",
    "    fun(ptr1);\n",
    "    fun(ptr2);  \n",
    "    return 0;  \n",
    "}"
   ]
  },
  {
   "cell_type": "code",
   "execution_count": 63,
   "metadata": {},
   "outputs": [
    {
     "name": "stdout",
     "output_type": "stream",
     "text": [
      "test.cpp:9:6: error: redefinition of 'fun'\n",
      "void fun(char* const a)  \n",
      "     ^\n",
      "test.cpp:4:6: note: previous definition is here\n",
      "void fun(char* a)  \n",
      "     ^\n",
      "test.cpp:16:18: warning: conversion from string literal to 'char *' is deprecated [-Wc++11-compat-deprecated-writable-strings]\n",
      "    char *ptr1 = \"hello world\";\n",
      "                 ^\n",
      "1 warning and 1 error generated.\n"
     ]
    }
   ],
   "source": [
    "!g++ test.cpp"
   ]
  },
  {
   "cell_type": "markdown",
   "metadata": {},
   "source": [
    "情况2又报错了，这个例1实际上是同一个问题。因为 `const char* a` 表示的是常量指针，表示指针本身是个常量，它指向的内容是可以边的。而由于采用的是值传递，因此函数内部的 `a` 不会影响到函数外面的 `ptr1`、`ptr2`，因此会报错"
   ]
  },
  {
   "cell_type": "markdown",
   "metadata": {},
   "source": [
    "# References\n",
    "\n",
    "- [C++中const用于函数重载 - 青儿哥哥 - 博客园](https://www.cnblogs.com/qingergege/p/7609533.html)"
   ]
  },
  {
   "cell_type": "code",
   "execution_count": null,
   "metadata": {},
   "outputs": [],
   "source": []
  }
 ],
 "metadata": {
  "kernelspec": {
   "display_name": "C++11 [conda env:cpp]",
   "language": "C++11",
   "name": "conda-env-cpp-xcpp11"
  },
  "language_info": {
   "codemirror_mode": "text/x-c++src",
   "file_extension": ".cpp",
   "mimetype": "text/x-c++src",
   "name": "c++",
   "version": "11"
  }
 },
 "nbformat": 4,
 "nbformat_minor": 4
}
