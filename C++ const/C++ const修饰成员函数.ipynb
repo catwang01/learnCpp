{
 "cells": [
  {
   "cell_type": "markdown",
   "metadata": {},
   "source": [
    "---\n",
    "title: C++ const修饰成员函数\n",
    "tags: 小书匠,c++,const\n",
    "grammar_cjkRuby: true\n",
    "renderNumberedHeading: true\n",
    "---\n",
    "\n",
    "[toc]\n",
    "\n",
    "# C++ const修饰成员函数"
   ]
  },
  {
   "cell_type": "markdown",
   "metadata": {},
   "source": [
    "## const 修饰成员函数的原理"
   ]
  },
  {
   "cell_type": "markdown",
   "metadata": {},
   "source": [
    "**const 修饰成员函数实际上是修饰 this。**\n",
    "\n",
    "默认情况下 `this` 指针的类型是指向类类型非常量版本的常量指针。具体来说就是：`StrBlob* const`（StrBlob 是一个类），这也就意味着，`this` 指针无法指向一个 `const StrBlob` 对象，也就无法在 `const StrBlob` 对象上使用普通的成员函数。\n",
    "\n",
    "所以我们想让 `this` 变为指向常量的常量指针，C++ 中的做法是在普通成员函数的参数列表后面加上 const 关键字，这样的成员函数叫做常量成员函数。此时 `this` 的类型相当于 `const StrBlob* const`"
   ]
  },
  {
   "cell_type": "markdown",
   "metadata": {},
   "source": [
    "## const 修饰成员函数的原则"
   ]
  },
  {
   "cell_type": "markdown",
   "metadata": {},
   "source": [
    "对于 const 修饰成员函数，有下面几条规则\n",
    "\n",
    "1. const是函数类型的一部分，**在实现部分也要带该关键字**。\n",
    "2. const关键字可以用于对重载函数的区分。\n",
    "3. 常成员函数不能更新类的成员变量，也不能调用该类中没有用const修饰的成员函数，只能调用常成员函数。\n",
    "4. const 对象只能调用 const成员函数，而非常量对象既可以调用 const 成员函数，也可以调用非常成员函数。但是如果有重载的非常成员函数则会调用非常成员函数。"
   ]
  },
  {
   "cell_type": "markdown",
   "metadata": {},
   "source": [
    "### const 对象只能调用 const 成员函数"
   ]
  },
  {
   "cell_type": "code",
   "execution_count": 14,
   "metadata": {},
   "outputs": [],
   "source": [
    "#include<iostream>  \n",
    "   \n",
    "class Test  \n",
    "{  \n",
    "    private:\n",
    "        int x;  \n",
    "    public:  \n",
    "        Test (int i):x(i) { }  \n",
    "        void fun()  \n",
    "        {  \n",
    "            std::cout << \"fun() called \" << std::endl;  \n",
    "        }  \n",
    "};  "
   ]
  },
  {
   "cell_type": "code",
   "execution_count": 15,
   "metadata": {},
   "outputs": [
    {
     "name": "stdout",
     "output_type": "stream",
     "text": [
      "fun() called \n"
     ]
    }
   ],
   "source": [
    "Test t1 (10);  \n",
    "t1.fun();  \n",
    "// const Test t2 (20);  \n",
    "// t2.fun();  // error: member function 'fun' not viable: 'this' argument has type 'const Test', but function is not marked const"
   ]
  },
  {
   "cell_type": "markdown",
   "metadata": {},
   "source": [
    "### 非 const 对象可以调用 const 函数"
   ]
  },
  {
   "cell_type": "code",
   "execution_count": 20,
   "metadata": {},
   "outputs": [],
   "source": [
    "#include<iostream>  \n",
    "   \n",
    "class Test  \n",
    "{  \n",
    "    private:\n",
    "        int x;  \n",
    "    public:  \n",
    "        Test (int i):x(i) { }  \n",
    "        void fun() const  \n",
    "        {  \n",
    "            std::cout << \"fun() const called \" << std::endl;  \n",
    "        }  \n",
    "};  "
   ]
  },
  {
   "cell_type": "code",
   "execution_count": 17,
   "metadata": {},
   "outputs": [
    {
     "name": "stdout",
     "output_type": "stream",
     "text": [
      "fun() const called \n",
      "fun() const called \n"
     ]
    }
   ],
   "source": [
    "Test t1 (10);  \n",
    "const Test t2 (20);  \n",
    "t1.fun();  // non-const object calls const member function\n",
    "t2.fun();  // const object calls const member function"
   ]
  },
  {
   "cell_type": "markdown",
   "metadata": {},
   "source": [
    "### 如果一个函数同时重载了 const 版本和非 const版本，那么 const 对象调用 const 版本，非 const 对象调用非 const 版本"
   ]
  },
  {
   "cell_type": "code",
   "execution_count": 21,
   "metadata": {
    "tags": []
   },
   "outputs": [],
   "source": [
    "#include<iostream>  \n",
    "   \n",
    "class Test  \n",
    "{  \n",
    "    private:\n",
    "        int x;  \n",
    "    public:  \n",
    "        Test (int i):x(i) { }  \n",
    "        void fun() const  \n",
    "        {  \n",
    "            std::cout << \"fun() const called \" << std::endl;  \n",
    "        }  \n",
    "        void fun()  \n",
    "        {  \n",
    "            std::cout << \"fun() called \" << std::endl;  \n",
    "        }  \n",
    "};  "
   ]
  },
  {
   "cell_type": "code",
   "execution_count": 22,
   "metadata": {},
   "outputs": [
    {
     "name": "stdout",
     "output_type": "stream",
     "text": [
      "fun() called \n",
      "fun() const called \n"
     ]
    }
   ],
   "source": [
    "Test t1 (10);  \n",
    "const Test t2 (20);  \n",
    "t1.fun();  // non-const object calls non-const member function\n",
    "t2.fun();  // const object calls const member function"
   ]
  },
  {
   "cell_type": "markdown",
   "metadata": {},
   "source": [
    "## const 修饰成员函数的使用原则"
   ]
  },
  {
   "cell_type": "markdown",
   "metadata": {},
   "source": [
    "const 关键字给予了我们更加丰富的表达方式，让我们可以区别出 const 对象和 非 const 对象。\n",
    "\n",
    "1. 对于某些函数，如果我们想区分 const 对象和非const 对象，并让他们提供不同的表现时，我们可以编写这个函数的 const 版本和非 const 版本，如下面的例子"
   ]
  },
  {
   "cell_type": "code",
   "execution_count": 48,
   "metadata": {},
   "outputs": [],
   "source": [
    "#include <iostream>\n",
    "class People\n",
    "{\n",
    "    private:\n",
    "        std::string name;\n",
    "        int age_;\n",
    "    public:\n",
    "        People(int age=0): age_(age) {}\n",
    "        int& age() { return age_;}\n",
    "        const int& age() const { return age_;}\n",
    "};"
   ]
  },
  {
   "cell_type": "code",
   "execution_count": 53,
   "metadata": {},
   "outputs": [
    {
     "name": "stdout",
     "output_type": "stream",
     "text": [
      "Before change: 0\n",
      "After change: 1\n"
     ]
    }
   ],
   "source": [
    "People p1;\n",
    "std::cout << \"Before change: \" << p1.age() << std::endl;\n",
    "p1.age() = 1;\n",
    "std::cout << \"After change: \" << p1.age() << std::endl;"
   ]
  },
  {
   "cell_type": "code",
   "execution_count": 54,
   "metadata": {},
   "outputs": [
    {
     "name": "stdout",
     "output_type": "stream",
     "text": [
      "Can't change age_ via const function: 0\n"
     ]
    },
    {
     "data": {
      "text/plain": [
       "@0x10785fc30"
      ]
     },
     "execution_count": 54,
     "metadata": {},
     "output_type": "execute_result"
    }
   ],
   "source": [
    "const People p2;\n",
    "std::cout << \"Can't change age_ via const function: \" << p2.age() << std::endl;\n",
    "// p2.age = 2; // 报错"
   ]
  },
  {
   "cell_type": "markdown",
   "metadata": {},
   "source": [
    "这个例子中，我们希望 People 这个类，如果是通过非 const 对象来调用 `age()` 时，我们返回一个可以修改的引用。而通过 const 对象来调用 `age()` 时，我们返回一个不能修改的引用。"
   ]
  },
  {
   "cell_type": "markdown",
   "metadata": {},
   "source": [
    "2. 如果对于某个函数，我们不想区分 const 和 非 const 对象的表现的时候，我们可以只编写这个函数的 const 版本而省略非 const 版本（因为 const 对象和 非 const 对象都可以调用 const 版本）"
   ]
  },
  {
   "cell_type": "code",
   "execution_count": 55,
   "metadata": {},
   "outputs": [],
   "source": [
    "#include <iostream>\n",
    "class People\n",
    "{\n",
    "    private:\n",
    "        std::string name;\n",
    "        int age_;\n",
    "    public:\n",
    "        People(int age=0): age_(age) {}\n",
    "        void show() const { std::cout << age_ << \"\\n\"; }\n",
    "};"
   ]
  },
  {
   "cell_type": "code",
   "execution_count": 59,
   "metadata": {},
   "outputs": [
    {
     "name": "stdout",
     "output_type": "stream",
     "text": [
      "1\n",
      "2\n"
     ]
    }
   ],
   "source": [
    "People p1(1);\n",
    "const People p2(2);\n",
    "p1.show();\n",
    "p2.show();"
   ]
  },
  {
   "cell_type": "markdown",
   "metadata": {},
   "source": [
    "# References\n",
    "- [const 成员函数与基于 const 的重载 - xinze - 博客园](https://www.cnblogs.com/LuoboLiam/p/13810797.html)\n",
    "- [C++中const用于函数重载 - 青儿哥哥 - 博客园](https://www.cnblogs.com/qingergege/p/7609533.html)"
   ]
  }
 ],
 "metadata": {
  "kernelspec": {
   "display_name": "C++11 [conda env:cpp]",
   "language": "C++11",
   "name": "conda-env-cpp-xcpp11"
  },
  "language_info": {
   "codemirror_mode": "text/x-c++src",
   "file_extension": ".cpp",
   "mimetype": "text/x-c++src",
   "name": "c++",
   "version": "11"
  }
 },
 "nbformat": 4,
 "nbformat_minor": 4
}
