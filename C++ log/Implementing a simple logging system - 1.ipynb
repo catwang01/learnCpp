{
 "cells": [
  {
   "cell_type": "markdown",
   "id": "9be42217-c91d-439f-a580-9cb898b1783a",
   "metadata": {},
   "source": [
    "---\n",
    "title: Implementing a simple logging system in C++ - 1\n",
    "tags: 小书匠,logging,log,logger,log4cplus,c++\n",
    "grammar_cjkRuby: true\n",
    "renderNumberedHeading: true\n",
    "---\n",
    "\n",
    "[toc]\n",
    "\n",
    "# Implementing a simple logging system - 1 in C++\n",
    "\n",
    "We implement the design in [ 1 ][1]."
   ]
  },
  {
   "cell_type": "markdown",
   "id": "d927006f-a399-42bb-9ea8-bf59a1650d78",
   "metadata": {},
   "source": [
    "## LogLevel"
   ]
  },
  {
   "cell_type": "code",
   "execution_count": 1,
   "id": "6b7a488b-1313-4df6-94de-a7c258b6ad1e",
   "metadata": {},
   "outputs": [
    {
     "name": "stdout",
     "output_type": "stream",
     "text": [
      "Overwriting LogLevel.h\n"
     ]
    }
   ],
   "source": [
    "%%file LogLevel.h\n",
    "// LogLevel.h\n",
    "#pragma once\n",
    "namespace log {\n",
    "\tenum LogLevel {\n",
    "\t\tWARN = 200,\n",
    "\t\tINFO = 100,\n",
    "\t\tDEBUG = -1,\n",
    "\t};\n",
    "};"
   ]
  },
  {
   "cell_type": "markdown",
   "id": "ef7be406-48e2-4d6e-a62b-8861f951a395",
   "metadata": {},
   "source": [
    "## LoggingEvent"
   ]
  },
  {
   "cell_type": "code",
   "execution_count": 2,
   "id": "0c7d58fd-583c-497f-a382-98ac703c3344",
   "metadata": {},
   "outputs": [
    {
     "name": "stdout",
     "output_type": "stream",
     "text": [
      "Overwriting LoggingEvent.h\n"
     ]
    }
   ],
   "source": [
    "%%file LoggingEvent.h\n",
    "// LoggingEvent.h\n",
    "#pragma once\n",
    "#include <string>\n",
    "#include \"LogLevel.h\"\n",
    "\n",
    "namespace log\n",
    "{\n",
    "\tclass LoggingEvent\n",
    "\t{\n",
    "\tpublic:\n",
    "\t\tstd::string message;\n",
    "\t\tint lineno;\n",
    "\t\tLogLevel level;\n",
    "\t\tstd::string filename;\n",
    "\t\tLoggingEvent(const std::string &message,\n",
    "\t\t\t     int lineno,\n",
    "\t\t\t     const std::string& filename,\n",
    "\t\t\t     LogLevel level = LogLevel::INFO)\n",
    "\t\t\t      : message(message), lineno(lineno), filename(filename), level(level) {}\n",
    "\t};\n",
    "};"
   ]
  },
  {
   "cell_type": "markdown",
   "id": "bcc670a5-9ab5-4096-a868-6e2fa3f35e66",
   "metadata": {},
   "source": [
    "## Layout"
   ]
  },
  {
   "cell_type": "code",
   "execution_count": 9,
   "id": "c98004bf-21e6-4c17-a2d8-71e31e902714",
   "metadata": {},
   "outputs": [
    {
     "name": "stdout",
     "output_type": "stream",
     "text": [
      "Overwriting Layout.h\n"
     ]
    }
   ],
   "source": [
    "%%file Layout.h\n",
    "\n",
    "#pragma once\n",
    "#include <iostream>\n",
    "#include \"LoggingEvent.h\"\n",
    "#include <string>\n",
    "\n",
    "namespace log\n",
    "{\n",
    "\tclass Layout {\n",
    "\t\tpublic:\n",
    "\t\t\tvirtual std::string format(const LoggingEvent& event) const = 0;\n",
    "\t};\n",
    "\n",
    "\tclass SimpleLayout: public Layout\n",
    "\t{\n",
    "\t\tpublic:\n",
    "\t\t\tstd::string format(const LoggingEvent& event) const override\n",
    "\t\t\t{\n",
    "\t\t\t\treturn \"filename: \" + event.filename + \" - lineno: \" + std::to_string(event.lineno) + \" - \" + event.message;\n",
    "\t\t\t}\n",
    "\t};\n",
    "};"
   ]
  },
  {
   "cell_type": "markdown",
   "id": "7c0732d2-b0f2-490e-84a7-e14489d60fcc",
   "metadata": {},
   "source": [
    "## Appender"
   ]
  },
  {
   "cell_type": "code",
   "execution_count": 4,
   "id": "0c587788-5ad8-48d7-b2ea-6f788ee21031",
   "metadata": {},
   "outputs": [
    {
     "name": "stdout",
     "output_type": "stream",
     "text": [
      "Overwriting Appender.h\n"
     ]
    }
   ],
   "source": [
    "%%file Appender.h\n",
    "// Appender.h\n",
    "#pragma once\n",
    "#include \"LoggingEvent.h\"\n",
    "#include \"LogLevel.h\"\n",
    "#include <iostream>\n",
    "#include \"Layout.h\"\n",
    "#include <vector>\n",
    "#include <memory>\n",
    "\n",
    "namespace log\n",
    "{\n",
    "\tclass Appender\n",
    "\t{\n",
    "\tpublic:\n",
    "\t\tvirtual void append(LoggingEvent &) = 0;\n",
    "\t\tvirtual void setLayout(std::shared_ptr<Layout> &layout) = 0;\n",
    "\t\tAppender(LogLevel level = LogLevel::INFO,\n",
    "\t\t\t std::shared_ptr<Layout> layoutPtr = NULL) : level(level), layoutPtr(layoutPtr) {}\n",
    "\n",
    "\tprotected:\n",
    "\t\tLogLevel level;\n",
    "\t\tstd::shared_ptr<Layout> layoutPtr;\n",
    "\t};\n",
    "\n",
    "\tclass ConsoleAppender : public Appender\n",
    "\t{\n",
    "\tpublic:\n",
    "\t\tConsoleAppender() : Appender(LogLevel::INFO, std::make_shared<SimpleLayout>()) {}\n",
    "\t\tvoid append(LoggingEvent &event) override\n",
    "\t\t{\n",
    "\t\t\tstd::cout << layoutPtr->format(event) << std::endl;\n",
    "\t\t};\n",
    "\t\tvoid setLayout(std::shared_ptr<Layout> &layout) override\n",
    "\t\t{\n",
    "\t\t\tlayoutPtr = layout;\n",
    "\t\t}\n",
    "\t};\n",
    "}"
   ]
  },
  {
   "cell_type": "markdown",
   "id": "3dc1fd85-8181-4947-a968-7e560257ea6a",
   "metadata": {},
   "source": [
    "## Logger"
   ]
  },
  {
   "cell_type": "code",
   "execution_count": 5,
   "id": "266a7642-9053-45d6-ac19-ede2fa1113a1",
   "metadata": {},
   "outputs": [
    {
     "name": "stdout",
     "output_type": "stream",
     "text": [
      "Overwriting Logger.h\n"
     ]
    }
   ],
   "source": [
    "%%file Logger.h\n",
    "// Logger.h\n",
    "#pragma once\n",
    "#include \"Appender.h\"\n",
    "#include \"LoggingEvent.h\"\n",
    "#include <vector>\n",
    "\n",
    "namespace log\n",
    "{\n",
    "\tclass Logger\n",
    "\t{\n",
    "\t\ttypedef std::shared_ptr<Appender> AppendPtr;\n",
    "\t\ttypedef std::vector<AppendPtr> AppenderList;\n",
    "\t\tpublic:\n",
    "\t\t\tLogger(Logger* parent=NULL, LogLevel level=LogLevel::INFO): parent(parent), level(level) {}\n",
    "\t\t\tvoid addAppender(AppendPtr appender)\n",
    "\t\t\t{\n",
    "\t\t\t\tappenderList.push_back(appender);\n",
    "\t\t\t}\n",
    "\t\t\tvoid log(const std::string& message, int lineno, const std::string& filename, LogLevel level)\n",
    "\t\t\t{\n",
    "\t\t\t\tif (this->level > level) return ;\n",
    "\t\t\t\tLoggingEvent event(message, lineno, filename, level);\n",
    "\t\t\t\tfor (auto& appender: appenderList)\n",
    "\t\t\t\t{\n",
    "\t\t\t\t\tappender->append(event);\n",
    "\t\t\t\t}\n",
    "\t\t\t}\n",
    "\t\t\tvoid setLevel(LogLevel level) {\n",
    "\t\t\t\tthis->level = level;\n",
    "\t\t\t}\n",
    "\t\t\tLogLevel getLevel(LogLevel level) const\n",
    "\t\t\t{\n",
    "\t\t\t\treturn level;\n",
    "\t\t\t}\n",
    "\t\tprivate:\n",
    "\t\t\tLogLevel level;\n",
    "\t\t\tLogger* parent;\n",
    "\t\t\tAppenderList appenderList;\n",
    "\n",
    "\t};\n",
    "};"
   ]
  },
  {
   "cell_type": "markdown",
   "id": "c0905512-631b-41c9-9bcd-a31d46c9829f",
   "metadata": {},
   "source": [
    "## log.h"
   ]
  },
  {
   "cell_type": "markdown",
   "id": "23a3723e-ce46-4e6b-8060-f26730cbf0d6",
   "metadata": {},
   "source": [
    "To make the logging system easy to use, we provide some macros in `log.h`. Here we referenced [C++ 简单测试框架][2]"
   ]
  },
  {
   "cell_type": "code",
   "execution_count": 33,
   "id": "9577879a-dd21-4e0c-aa5f-9d41e56e5082",
   "metadata": {},
   "outputs": [
    {
     "name": "stdout",
     "output_type": "stream",
     "text": [
      "Overwriting log.h\n"
     ]
    }
   ],
   "source": [
    "%%file log.h\n",
    "#include \"LogLevel.h\"\n",
    "#define LOG(logger, message, LEVEL)  logger.log(message, __LINE__, __FILE__, log::LEVEL)\n",
    "#define LOG_INFO(logger, message) LOG(logger, message, INFO)\n",
    "#define LOG_DEBUG(logger, message) LOG(logger, message, DEBUG)\n",
    "#define LOG_WARN(logger, message) LOG(logger, message, WARN)"
   ]
  },
  {
   "cell_type": "markdown",
   "id": "03aeb501-3301-47bf-88e9-7c9c3d688f80",
   "metadata": {},
   "source": [
    "## main.cpp"
   ]
  },
  {
   "cell_type": "code",
   "execution_count": 34,
   "id": "26d702ac-a8f9-4764-839e-3e5ba0580805",
   "metadata": {},
   "outputs": [
    {
     "name": "stdout",
     "output_type": "stream",
     "text": [
      "Overwriting main.cpp\n"
     ]
    }
   ],
   "source": [
    "%%file main.cpp\n",
    "// main.cpp\n",
    "#include \"Appender.h\"\n",
    "#include \"Logger.h\"\n",
    "#include \"log.h\"\n",
    "#include <iostream>\n",
    "\n",
    "int main()\n",
    "{\n",
    "\tstd::shared_ptr<log::Appender> appender = std::make_shared<log::ConsoleAppender>();\n",
    "\tlog::Logger logger;\n",
    "\tlogger.addAppender(appender);\n",
    "    std::cout << \"default level INFO\" << std::endl;\n",
    "\tLOG_WARN(logger, \"warn\");\n",
    "\tLOG_INFO(logger, \"info\");\n",
    "\tLOG_DEBUG(logger, \"debug\");\n",
    "    std::cout << \"setLevel WARN\" << std::endl;\n",
    "\tlogger.setLevel(log::LogLevel::WARN);\n",
    "\tLOG_WARN(logger, \"warn\");\n",
    "\tLOG_INFO(logger, \"info\");\n",
    "\tLOG_DEBUG(logger, \"debug\");\n",
    "    std::cout << \"setLevel DEBUG\" << std::endl;\n",
    "\tlogger.setLevel(log::LogLevel::DEBUG);\n",
    "\tLOG_WARN(logger, \"warn\");\n",
    "\tLOG_INFO(logger, \"info\");\n",
    "\tLOG_DEBUG(logger, \"debug\");\n",
    "\treturn 0;\n",
    "}"
   ]
  },
  {
   "cell_type": "code",
   "execution_count": 35,
   "id": "27485a37-3db6-4485-ab07-034e03bcb6d2",
   "metadata": {},
   "outputs": [
    {
     "name": "stdout",
     "output_type": "stream",
     "text": [
      "default level INFO\n",
      "filename: main.cpp - lineno: 13 - warn\n",
      "filename: main.cpp - lineno: 14 - info\n",
      "setLevel WARN\n",
      "filename: main.cpp - lineno: 18 - warn\n",
      "setLevel DEBUG\n",
      "filename: main.cpp - lineno: 23 - warn\n",
      "filename: main.cpp - lineno: 24 - info\n",
      "filename: main.cpp - lineno: 25 - debug\n"
     ]
    }
   ],
   "source": [
    "%%bash\n",
    "\n",
    "g++ main.cpp -o main\n",
    "./main"
   ]
  },
  {
   "cell_type": "markdown",
   "id": "dc8d116c-ad19-4d76-b5fe-9ad0b020157b",
   "metadata": {},
   "source": [
    "# References\n",
    "1. [The Design of a simple logging system][1]\n",
    "2. [C++ 简单测试框架][2]\n",
    "\n",
    "[1]: evernote:///view/22483756/s54/7e132c93-c5fa-410a-baf3-b55fab047f6b/7e132c93-c5fa-410a-baf3-b55fab047f6b\n",
    "[2]: evernote:///view/22483756/s54/48e89f0f-33bd-4bf4-a9b2-61eba2564453/48e89f0f-33bd-4bf4-a9b2-61eba2564453"
   ]
  }
 ],
 "metadata": {
  "kernelspec": {
   "display_name": "Python 3",
   "language": "python",
   "name": "python3"
  },
  "language_info": {
   "codemirror_mode": {
    "name": "ipython",
    "version": 3
   },
   "file_extension": ".py",
   "mimetype": "text/x-python",
   "name": "python",
   "nbconvert_exporter": "python",
   "pygments_lexer": "ipython3",
   "version": "3.9.2"
  }
 },
 "nbformat": 4,
 "nbformat_minor": 5
}
